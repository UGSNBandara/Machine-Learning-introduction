{
 "cells": [
  {
   "cell_type": "markdown",
   "id": "a96fcebd-bef9-40ba-bc8a-c708d5c91ed5",
   "metadata": {},
   "source": [
    "# Introduction to Scikit-Lear (SK lear)"
   ]
  },
  {
   "cell_type": "markdown",
   "id": "6f09c8b2-1598-450e-8d62-6e1bf4a9967d",
   "metadata": {},
   "source": [
    "Workflow:\n",
    "\n",
    "    *1) Getting data ready\n",
    "    *2) Choose the right estimator/Algorithrm\n",
    "    *3) fit the model/algorythem \n",
    "    *4) evauating the model\n",
    "    *5) improve the model\n",
    "    *6) Save and load a trained model"
   ]
  },
  {
   "cell_type": "code",
   "execution_count": 38,
   "id": "bbd5d006-cc03-4820-bc83-451f1ab6c51d",
   "metadata": {},
   "outputs": [],
   "source": [
    "import numpy as np"
   ]
  },
  {
   "cell_type": "code",
   "execution_count": 5,
   "id": "34b9471c-9af5-48d4-81ac-d8e111815cc6",
   "metadata": {},
   "outputs": [
    {
     "data": {
      "text/html": [
       "<div>\n",
       "<style scoped>\n",
       "    .dataframe tbody tr th:only-of-type {\n",
       "        vertical-align: middle;\n",
       "    }\n",
       "\n",
       "    .dataframe tbody tr th {\n",
       "        vertical-align: top;\n",
       "    }\n",
       "\n",
       "    .dataframe thead th {\n",
       "        text-align: right;\n",
       "    }\n",
       "</style>\n",
       "<table border=\"1\" class=\"dataframe\">\n",
       "  <thead>\n",
       "    <tr style=\"text-align: right;\">\n",
       "      <th></th>\n",
       "      <th>age</th>\n",
       "      <th>sex</th>\n",
       "      <th>cp</th>\n",
       "      <th>trestbps</th>\n",
       "      <th>chol</th>\n",
       "      <th>fbs</th>\n",
       "      <th>restecg</th>\n",
       "      <th>thalach</th>\n",
       "      <th>exang</th>\n",
       "      <th>oldpeak</th>\n",
       "      <th>slope</th>\n",
       "      <th>ca</th>\n",
       "      <th>thal</th>\n",
       "      <th>target</th>\n",
       "    </tr>\n",
       "  </thead>\n",
       "  <tbody>\n",
       "    <tr>\n",
       "      <th>0</th>\n",
       "      <td>63</td>\n",
       "      <td>1</td>\n",
       "      <td>3</td>\n",
       "      <td>145</td>\n",
       "      <td>233</td>\n",
       "      <td>1</td>\n",
       "      <td>0</td>\n",
       "      <td>150</td>\n",
       "      <td>0</td>\n",
       "      <td>2.3</td>\n",
       "      <td>0</td>\n",
       "      <td>0</td>\n",
       "      <td>1</td>\n",
       "      <td>1</td>\n",
       "    </tr>\n",
       "    <tr>\n",
       "      <th>1</th>\n",
       "      <td>37</td>\n",
       "      <td>1</td>\n",
       "      <td>2</td>\n",
       "      <td>130</td>\n",
       "      <td>250</td>\n",
       "      <td>0</td>\n",
       "      <td>1</td>\n",
       "      <td>187</td>\n",
       "      <td>0</td>\n",
       "      <td>3.5</td>\n",
       "      <td>0</td>\n",
       "      <td>0</td>\n",
       "      <td>2</td>\n",
       "      <td>1</td>\n",
       "    </tr>\n",
       "    <tr>\n",
       "      <th>2</th>\n",
       "      <td>41</td>\n",
       "      <td>0</td>\n",
       "      <td>1</td>\n",
       "      <td>130</td>\n",
       "      <td>204</td>\n",
       "      <td>0</td>\n",
       "      <td>0</td>\n",
       "      <td>172</td>\n",
       "      <td>0</td>\n",
       "      <td>1.4</td>\n",
       "      <td>2</td>\n",
       "      <td>0</td>\n",
       "      <td>2</td>\n",
       "      <td>1</td>\n",
       "    </tr>\n",
       "    <tr>\n",
       "      <th>3</th>\n",
       "      <td>56</td>\n",
       "      <td>1</td>\n",
       "      <td>1</td>\n",
       "      <td>120</td>\n",
       "      <td>236</td>\n",
       "      <td>0</td>\n",
       "      <td>1</td>\n",
       "      <td>178</td>\n",
       "      <td>0</td>\n",
       "      <td>0.8</td>\n",
       "      <td>2</td>\n",
       "      <td>0</td>\n",
       "      <td>2</td>\n",
       "      <td>1</td>\n",
       "    </tr>\n",
       "    <tr>\n",
       "      <th>4</th>\n",
       "      <td>57</td>\n",
       "      <td>0</td>\n",
       "      <td>0</td>\n",
       "      <td>120</td>\n",
       "      <td>354</td>\n",
       "      <td>0</td>\n",
       "      <td>1</td>\n",
       "      <td>163</td>\n",
       "      <td>1</td>\n",
       "      <td>0.6</td>\n",
       "      <td>2</td>\n",
       "      <td>0</td>\n",
       "      <td>2</td>\n",
       "      <td>1</td>\n",
       "    </tr>\n",
       "    <tr>\n",
       "      <th>...</th>\n",
       "      <td>...</td>\n",
       "      <td>...</td>\n",
       "      <td>...</td>\n",
       "      <td>...</td>\n",
       "      <td>...</td>\n",
       "      <td>...</td>\n",
       "      <td>...</td>\n",
       "      <td>...</td>\n",
       "      <td>...</td>\n",
       "      <td>...</td>\n",
       "      <td>...</td>\n",
       "      <td>...</td>\n",
       "      <td>...</td>\n",
       "      <td>...</td>\n",
       "    </tr>\n",
       "    <tr>\n",
       "      <th>298</th>\n",
       "      <td>57</td>\n",
       "      <td>0</td>\n",
       "      <td>0</td>\n",
       "      <td>140</td>\n",
       "      <td>241</td>\n",
       "      <td>0</td>\n",
       "      <td>1</td>\n",
       "      <td>123</td>\n",
       "      <td>1</td>\n",
       "      <td>0.2</td>\n",
       "      <td>1</td>\n",
       "      <td>0</td>\n",
       "      <td>3</td>\n",
       "      <td>0</td>\n",
       "    </tr>\n",
       "    <tr>\n",
       "      <th>299</th>\n",
       "      <td>45</td>\n",
       "      <td>1</td>\n",
       "      <td>3</td>\n",
       "      <td>110</td>\n",
       "      <td>264</td>\n",
       "      <td>0</td>\n",
       "      <td>1</td>\n",
       "      <td>132</td>\n",
       "      <td>0</td>\n",
       "      <td>1.2</td>\n",
       "      <td>1</td>\n",
       "      <td>0</td>\n",
       "      <td>3</td>\n",
       "      <td>0</td>\n",
       "    </tr>\n",
       "    <tr>\n",
       "      <th>300</th>\n",
       "      <td>68</td>\n",
       "      <td>1</td>\n",
       "      <td>0</td>\n",
       "      <td>144</td>\n",
       "      <td>193</td>\n",
       "      <td>1</td>\n",
       "      <td>1</td>\n",
       "      <td>141</td>\n",
       "      <td>0</td>\n",
       "      <td>3.4</td>\n",
       "      <td>1</td>\n",
       "      <td>2</td>\n",
       "      <td>3</td>\n",
       "      <td>0</td>\n",
       "    </tr>\n",
       "    <tr>\n",
       "      <th>301</th>\n",
       "      <td>57</td>\n",
       "      <td>1</td>\n",
       "      <td>0</td>\n",
       "      <td>130</td>\n",
       "      <td>131</td>\n",
       "      <td>0</td>\n",
       "      <td>1</td>\n",
       "      <td>115</td>\n",
       "      <td>1</td>\n",
       "      <td>1.2</td>\n",
       "      <td>1</td>\n",
       "      <td>1</td>\n",
       "      <td>3</td>\n",
       "      <td>0</td>\n",
       "    </tr>\n",
       "    <tr>\n",
       "      <th>302</th>\n",
       "      <td>57</td>\n",
       "      <td>0</td>\n",
       "      <td>1</td>\n",
       "      <td>130</td>\n",
       "      <td>236</td>\n",
       "      <td>0</td>\n",
       "      <td>0</td>\n",
       "      <td>174</td>\n",
       "      <td>0</td>\n",
       "      <td>0.0</td>\n",
       "      <td>1</td>\n",
       "      <td>1</td>\n",
       "      <td>2</td>\n",
       "      <td>0</td>\n",
       "    </tr>\n",
       "  </tbody>\n",
       "</table>\n",
       "<p>303 rows × 14 columns</p>\n",
       "</div>"
      ],
      "text/plain": [
       "     age  sex  cp  trestbps  chol  fbs  restecg  thalach  exang  oldpeak  \\\n",
       "0     63    1   3       145   233    1        0      150      0      2.3   \n",
       "1     37    1   2       130   250    0        1      187      0      3.5   \n",
       "2     41    0   1       130   204    0        0      172      0      1.4   \n",
       "3     56    1   1       120   236    0        1      178      0      0.8   \n",
       "4     57    0   0       120   354    0        1      163      1      0.6   \n",
       "..   ...  ...  ..       ...   ...  ...      ...      ...    ...      ...   \n",
       "298   57    0   0       140   241    0        1      123      1      0.2   \n",
       "299   45    1   3       110   264    0        1      132      0      1.2   \n",
       "300   68    1   0       144   193    1        1      141      0      3.4   \n",
       "301   57    1   0       130   131    0        1      115      1      1.2   \n",
       "302   57    0   1       130   236    0        0      174      0      0.0   \n",
       "\n",
       "     slope  ca  thal  target  \n",
       "0        0   0     1       1  \n",
       "1        0   0     2       1  \n",
       "2        2   0     2       1  \n",
       "3        2   0     2       1  \n",
       "4        2   0     2       1  \n",
       "..     ...  ..   ...     ...  \n",
       "298      1   0     3       0  \n",
       "299      1   0     3       0  \n",
       "300      1   2     3       0  \n",
       "301      1   1     3       0  \n",
       "302      1   1     2       0  \n",
       "\n",
       "[303 rows x 14 columns]"
      ]
     },
     "execution_count": 5,
     "metadata": {},
     "output_type": "execute_result"
    }
   ],
   "source": [
    "import pandas as pd\n",
    "heart_diease = pd.read_csv(\"heart-disease.csv\")\n",
    "heart_diease"
   ]
  },
  {
   "cell_type": "code",
   "execution_count": 11,
   "id": "38d02e21-80fa-413a-b6a1-1cfe766a963d",
   "metadata": {},
   "outputs": [],
   "source": [
    "# Create X (Features matrix without target, which is the result/lable)\n",
    "x = heart_diease.drop(\"target\", axis=1)\n",
    "\n",
    "# create y (lable)\n",
    "y = heart_diease[\"target\"]"
   ]
  },
  {
   "cell_type": "code",
   "execution_count": 19,
   "id": "db6dd646-bd31-4771-bfff-30c9733ff845",
   "metadata": {},
   "outputs": [
    {
     "data": {
      "text/plain": [
       "{'bootstrap': True,\n",
       " 'ccp_alpha': 0.0,\n",
       " 'class_weight': None,\n",
       " 'criterion': 'gini',\n",
       " 'max_depth': None,\n",
       " 'max_features': 'sqrt',\n",
       " 'max_leaf_nodes': None,\n",
       " 'max_samples': None,\n",
       " 'min_impurity_decrease': 0.0,\n",
       " 'min_samples_leaf': 1,\n",
       " 'min_samples_split': 2,\n",
       " 'min_weight_fraction_leaf': 0.0,\n",
       " 'n_estimators': 100,\n",
       " 'n_jobs': None,\n",
       " 'oob_score': False,\n",
       " 'random_state': None,\n",
       " 'verbose': 0,\n",
       " 'warm_start': False}"
      ]
     },
     "execution_count": 19,
     "metadata": {},
     "output_type": "execute_result"
    }
   ],
   "source": [
    "# choose the right model and hyperparameters \n",
    "from sklearn.ensemble import RandomForestClassifier \n",
    "clf = RandomForestClassifier()\n",
    "\n",
    "# keep the default hyperparameters\n",
    "clf.get_params()"
   ]
  },
  {
   "cell_type": "code",
   "execution_count": 23,
   "id": "637c04c1-002b-4b6b-8ab7-c254261ee296",
   "metadata": {},
   "outputs": [],
   "source": [
    "# fir the model to the data\n",
    "from sklearn.model_selection import train_test_split\n",
    "\n",
    "x_train, x_test, y_train, y_test = train_test_split(x, y, test_size=0.2)"
   ]
  },
  {
   "cell_type": "code",
   "execution_count": 36,
   "id": "78000bd1-cfde-46a2-83b5-04b6e510a3d8",
   "metadata": {},
   "outputs": [],
   "source": [
    "clf.fit(x_train, y_train);"
   ]
  },
  {
   "cell_type": "code",
   "execution_count": 40,
   "id": "bedf9767-dd24-4bf7-b61b-975f476ccc19",
   "metadata": {},
   "outputs": [
    {
     "data": {
      "text/plain": [
       "47     1\n",
       "76     1\n",
       "182    0\n",
       "54     1\n",
       "147    1\n",
       "      ..\n",
       "255    0\n",
       "129    1\n",
       "45     1\n",
       "58     1\n",
       "116    1\n",
       "Name: target, Length: 242, dtype: int64"
      ]
     },
     "execution_count": 40,
     "metadata": {},
     "output_type": "execute_result"
    }
   ],
   "source": [
    "y_train"
   ]
  },
  {
   "cell_type": "code",
   "execution_count": 44,
   "id": "64e37702-b4d0-48bf-aabb-749bfe6e50d5",
   "metadata": {},
   "outputs": [
    {
     "data": {
      "text/plain": [
       "array([1, 0, 0, 1, 1, 1, 0, 1, 1, 0, 0, 1, 0, 0, 0, 1, 1, 0, 0, 1, 0, 1,\n",
       "       1, 0, 1, 1, 1, 0, 0, 0, 1, 0, 0, 0, 0, 0, 1, 1, 1, 0, 1, 1, 0, 1,\n",
       "       0, 0, 1, 1, 1, 1, 0, 0, 0, 0, 1, 1, 1, 1, 1, 0, 1], dtype=int64)"
      ]
     },
     "execution_count": 44,
     "metadata": {},
     "output_type": "execute_result"
    }
   ],
   "source": [
    "y_pra = clf.predict(x_test)\n",
    "y_pra"
   ]
  },
  {
   "cell_type": "code",
   "execution_count": 46,
   "id": "a979d57e-3336-4961-aa01-abcf136f9dfb",
   "metadata": {},
   "outputs": [],
   "source": [
    "## here model has predict the result for test data set"
   ]
  },
  {
   "cell_type": "code",
   "execution_count": 48,
   "id": "959353ee-4686-4da0-bd96-abe2049c4063",
   "metadata": {},
   "outputs": [
    {
     "data": {
      "text/plain": [
       "1.0"
      ]
     },
     "execution_count": 48,
     "metadata": {},
     "output_type": "execute_result"
    }
   ],
   "source": [
    "clf.score(x_train, y_train)"
   ]
  },
  {
   "cell_type": "code",
   "execution_count": 50,
   "id": "9397a74c-a3c2-4444-bcbe-dc38fdd09566",
   "metadata": {},
   "outputs": [
    {
     "data": {
      "text/plain": [
       "0.8360655737704918"
      ]
     },
     "execution_count": 50,
     "metadata": {},
     "output_type": "execute_result"
    }
   ],
   "source": [
    "clf.score(x_test, y_test)"
   ]
  },
  {
   "cell_type": "code",
   "execution_count": 52,
   "id": "2a5f2983-8101-49af-8f6c-936a4227d1a9",
   "metadata": {},
   "outputs": [],
   "source": [
    "## there are sevaral other methods to check the models accuracy. "
   ]
  },
  {
   "cell_type": "code",
   "execution_count": 54,
   "id": "7b7607a9-9d80-47c5-927b-0156ee902eac",
   "metadata": {},
   "outputs": [
    {
     "name": "stdout",
     "output_type": "stream",
     "text": [
      "              precision    recall  f1-score   support\n",
      "\n",
      "           0       0.83      0.83      0.83        29\n",
      "           1       0.84      0.84      0.84        32\n",
      "\n",
      "    accuracy                           0.84        61\n",
      "   macro avg       0.84      0.84      0.84        61\n",
      "weighted avg       0.84      0.84      0.84        61\n",
      "\n"
     ]
    }
   ],
   "source": [
    "from sklearn.metrics import classification_report, accuracy_score, confusion_matrix\n",
    "\n",
    "print(classification_report(y_test, y_pra))"
   ]
  },
  {
   "cell_type": "code",
   "execution_count": 56,
   "id": "6fefe2dc-d768-4c25-96ed-5c7e20f9d1f7",
   "metadata": {},
   "outputs": [
    {
     "name": "stdout",
     "output_type": "stream",
     "text": [
      "0.8360655737704918\n"
     ]
    }
   ],
   "source": [
    "print(accuracy_score(y_test, y_pra))"
   ]
  },
  {
   "cell_type": "code",
   "execution_count": 58,
   "id": "8ff34351-ac44-4b48-bd61-75cf78d8f6f5",
   "metadata": {},
   "outputs": [
    {
     "name": "stdout",
     "output_type": "stream",
     "text": [
      "[[24  5]\n",
      " [ 5 27]]\n"
     ]
    }
   ],
   "source": [
    "print(confusion_matrix(y_test, y_pra))"
   ]
  },
  {
   "cell_type": "code",
   "execution_count": 92,
   "id": "a25afc87-56b5-41f9-888a-03b166c9c42a",
   "metadata": {},
   "outputs": [
    {
     "name": "stdout",
     "output_type": "stream",
     "text": [
      "Trying model with 1 Estimator !!\n",
      "Accuracy : 88.52 % \n",
      "\n",
      "Trying model with 3 Estimator !!\n",
      "Accuracy : 77.05 % \n",
      "\n",
      "Trying model with 5 Estimator !!\n",
      "Accuracy : 78.69 % \n",
      "\n",
      "Trying model with 7 Estimator !!\n",
      "Accuracy : 80.33 % \n",
      "\n",
      "Trying model with 9 Estimator !!\n",
      "Accuracy : 81.97 % \n",
      "\n",
      "Trying model with 11 Estimator !!\n",
      "Accuracy : 86.89 % \n",
      "\n",
      "Trying model with 13 Estimator !!\n",
      "Accuracy : 80.33 % \n",
      "\n",
      "Trying model with 15 Estimator !!\n",
      "Accuracy : 86.89 % \n",
      "\n",
      "Trying model with 17 Estimator !!\n",
      "Accuracy : 80.33 % \n",
      "\n",
      "Trying model with 19 Estimator !!\n",
      "Accuracy : 80.33 % \n",
      "\n",
      "Trying model with 21 Estimator !!\n",
      "Accuracy : 88.52 % \n",
      "\n",
      "Trying model with 23 Estimator !!\n",
      "Accuracy : 80.33 % \n",
      "\n",
      "Trying model with 25 Estimator !!\n",
      "Accuracy : 83.61 % \n",
      "\n",
      "Trying model with 27 Estimator !!\n",
      "Accuracy : 81.97 % \n",
      "\n",
      "Trying model with 29 Estimator !!\n",
      "Accuracy : 85.25 % \n",
      "\n",
      "Trying model with 31 Estimator !!\n",
      "Accuracy : 83.61 % \n",
      "\n",
      "Trying model with 33 Estimator !!\n",
      "Accuracy : 83.61 % \n",
      "\n",
      "Trying model with 35 Estimator !!\n",
      "Accuracy : 80.33 % \n",
      "\n",
      "Trying model with 37 Estimator !!\n",
      "Accuracy : 83.61 % \n",
      "\n",
      "Trying model with 39 Estimator !!\n",
      "Accuracy : 85.25 % \n",
      "\n",
      "Trying model with 41 Estimator !!\n",
      "Accuracy : 78.69 % \n",
      "\n",
      "Trying model with 43 Estimator !!\n",
      "Accuracy : 81.97 % \n",
      "\n",
      "Trying model with 45 Estimator !!\n",
      "Accuracy : 80.33 % \n",
      "\n",
      "Trying model with 47 Estimator !!\n",
      "Accuracy : 83.61 % \n",
      "\n",
      "Trying model with 49 Estimator !!\n",
      "Accuracy : 85.25 % \n",
      "\n",
      "Trying model with 51 Estimator !!\n",
      "Accuracy : 80.33 % \n",
      "\n",
      "Trying model with 53 Estimator !!\n",
      "Accuracy : 81.97 % \n",
      "\n",
      "Trying model with 55 Estimator !!\n",
      "Accuracy : 80.33 % \n",
      "\n",
      "Trying model with 57 Estimator !!\n",
      "Accuracy : 81.97 % \n",
      "\n",
      "Trying model with 59 Estimator !!\n",
      "Accuracy : 85.25 % \n",
      "\n",
      "Trying model with 61 Estimator !!\n",
      "Accuracy : 85.25 % \n",
      "\n",
      "Trying model with 63 Estimator !!\n",
      "Accuracy : 85.25 % \n",
      "\n",
      "Trying model with 65 Estimator !!\n",
      "Accuracy : 83.61 % \n",
      "\n",
      "Trying model with 67 Estimator !!\n",
      "Accuracy : 85.25 % \n",
      "\n",
      "Trying model with 69 Estimator !!\n",
      "Accuracy : 83.61 % \n",
      "\n",
      "Trying model with 71 Estimator !!\n",
      "Accuracy : 86.89 % \n",
      "\n",
      "Trying model with 73 Estimator !!\n",
      "Accuracy : 81.97 % \n",
      "\n",
      "Trying model with 75 Estimator !!\n",
      "Accuracy : 81.97 % \n",
      "\n",
      "Trying model with 77 Estimator !!\n",
      "Accuracy : 83.61 % \n",
      "\n",
      "Trying model with 79 Estimator !!\n",
      "Accuracy : 85.25 % \n",
      "\n",
      "Trying model with 81 Estimator !!\n",
      "Accuracy : 85.25 % \n",
      "\n",
      "Trying model with 83 Estimator !!\n",
      "Accuracy : 83.61 % \n",
      "\n",
      "Trying model with 85 Estimator !!\n",
      "Accuracy : 80.33 % \n",
      "\n",
      "Trying model with 87 Estimator !!\n",
      "Accuracy : 81.97 % \n",
      "\n",
      "Trying model with 89 Estimator !!\n",
      "Accuracy : 81.97 % \n",
      "\n",
      "Trying model with 91 Estimator !!\n",
      "Accuracy : 83.61 % \n",
      "\n",
      "Trying model with 93 Estimator !!\n",
      "Accuracy : 81.97 % \n",
      "\n",
      "Trying model with 95 Estimator !!\n",
      "Accuracy : 80.33 % \n",
      "\n",
      "Trying model with 97 Estimator !!\n",
      "Accuracy : 81.97 % \n",
      "\n",
      "Trying model with 99 Estimator !!\n",
      "Accuracy : 83.61 % \n",
      "\n"
     ]
    }
   ],
   "source": [
    "np.random.seed(seed= 42)\n",
    "\n",
    "for i in range(1,100,2):\n",
    "    clf.n_estimators=i;\n",
    "    print(f\"Trying model with {i} Estimator !!\")\n",
    "    clf.fit(x_train, y_train)\n",
    "    print(f\"Accuracy : {clf.score(x_test, y_test)*100:.2f} % \\n\")\n",
    "\n",
    "## :.2f by adding this we can make it round to the 2 decimal places"
   ]
  },
  {
   "cell_type": "code",
   "execution_count": 88,
   "id": "2f94b844-bfa2-4fc4-bd28-21e59bd78bb7",
   "metadata": {},
   "outputs": [],
   "source": [
    "## Accuracy is higher when Estimator is 1"
   ]
  },
  {
   "cell_type": "code",
   "execution_count": 94,
   "id": "161e00fa-8686-486b-b1ad-e266f95639b9",
   "metadata": {},
   "outputs": [],
   "source": [
    "# Save the model and load it"
   ]
  },
  {
   "cell_type": "code",
   "execution_count": 100,
   "id": "15301b6b-d91e-4bf3-bf2e-53b31d847b9e",
   "metadata": {},
   "outputs": [],
   "source": [
    "import pickle\n",
    "pickle.dump(clf, open(\"heart_dieasea_detector_model_1_using_RF.pkl\", \"wb\"))"
   ]
  },
  {
   "cell_type": "code",
   "execution_count": 106,
   "id": "9ccdd37a-5888-43fc-a832-7172bb911a0f",
   "metadata": {},
   "outputs": [],
   "source": [
    "loaded_model = pickle.load(open(\"hear_dieasea_detector_model_1_using_RF.pkl\", \"rb\"))"
   ]
  },
  {
   "cell_type": "code",
   "execution_count": 108,
   "id": "4910ad8b-6153-45c4-9d4c-95ec4f29bd61",
   "metadata": {},
   "outputs": [
    {
     "data": {
      "text/html": [
       "<style>#sk-container-id-3 {color: black;background-color: white;}#sk-container-id-3 pre{padding: 0;}#sk-container-id-3 div.sk-toggleable {background-color: white;}#sk-container-id-3 label.sk-toggleable__label {cursor: pointer;display: block;width: 100%;margin-bottom: 0;padding: 0.3em;box-sizing: border-box;text-align: center;}#sk-container-id-3 label.sk-toggleable__label-arrow:before {content: \"▸\";float: left;margin-right: 0.25em;color: #696969;}#sk-container-id-3 label.sk-toggleable__label-arrow:hover:before {color: black;}#sk-container-id-3 div.sk-estimator:hover label.sk-toggleable__label-arrow:before {color: black;}#sk-container-id-3 div.sk-toggleable__content {max-height: 0;max-width: 0;overflow: hidden;text-align: left;background-color: #f0f8ff;}#sk-container-id-3 div.sk-toggleable__content pre {margin: 0.2em;color: black;border-radius: 0.25em;background-color: #f0f8ff;}#sk-container-id-3 input.sk-toggleable__control:checked~div.sk-toggleable__content {max-height: 200px;max-width: 100%;overflow: auto;}#sk-container-id-3 input.sk-toggleable__control:checked~label.sk-toggleable__label-arrow:before {content: \"▾\";}#sk-container-id-3 div.sk-estimator input.sk-toggleable__control:checked~label.sk-toggleable__label {background-color: #d4ebff;}#sk-container-id-3 div.sk-label input.sk-toggleable__control:checked~label.sk-toggleable__label {background-color: #d4ebff;}#sk-container-id-3 input.sk-hidden--visually {border: 0;clip: rect(1px 1px 1px 1px);clip: rect(1px, 1px, 1px, 1px);height: 1px;margin: -1px;overflow: hidden;padding: 0;position: absolute;width: 1px;}#sk-container-id-3 div.sk-estimator {font-family: monospace;background-color: #f0f8ff;border: 1px dotted black;border-radius: 0.25em;box-sizing: border-box;margin-bottom: 0.5em;}#sk-container-id-3 div.sk-estimator:hover {background-color: #d4ebff;}#sk-container-id-3 div.sk-parallel-item::after {content: \"\";width: 100%;border-bottom: 1px solid gray;flex-grow: 1;}#sk-container-id-3 div.sk-label:hover label.sk-toggleable__label {background-color: #d4ebff;}#sk-container-id-3 div.sk-serial::before {content: \"\";position: absolute;border-left: 1px solid gray;box-sizing: border-box;top: 0;bottom: 0;left: 50%;z-index: 0;}#sk-container-id-3 div.sk-serial {display: flex;flex-direction: column;align-items: center;background-color: white;padding-right: 0.2em;padding-left: 0.2em;position: relative;}#sk-container-id-3 div.sk-item {position: relative;z-index: 1;}#sk-container-id-3 div.sk-parallel {display: flex;align-items: stretch;justify-content: center;background-color: white;position: relative;}#sk-container-id-3 div.sk-item::before, #sk-container-id-3 div.sk-parallel-item::before {content: \"\";position: absolute;border-left: 1px solid gray;box-sizing: border-box;top: 0;bottom: 0;left: 50%;z-index: -1;}#sk-container-id-3 div.sk-parallel-item {display: flex;flex-direction: column;z-index: 1;position: relative;background-color: white;}#sk-container-id-3 div.sk-parallel-item:first-child::after {align-self: flex-end;width: 50%;}#sk-container-id-3 div.sk-parallel-item:last-child::after {align-self: flex-start;width: 50%;}#sk-container-id-3 div.sk-parallel-item:only-child::after {width: 0;}#sk-container-id-3 div.sk-dashed-wrapped {border: 1px dashed gray;margin: 0 0.4em 0.5em 0.4em;box-sizing: border-box;padding-bottom: 0.4em;background-color: white;}#sk-container-id-3 div.sk-label label {font-family: monospace;font-weight: bold;display: inline-block;line-height: 1.2em;}#sk-container-id-3 div.sk-label-container {text-align: center;}#sk-container-id-3 div.sk-container {/* jupyter's `normalize.less` sets `[hidden] { display: none; }` but bootstrap.min.css set `[hidden] { display: none !important; }` so we also need the `!important` here to be able to override the default hidden behavior on the sphinx rendered scikit-learn.org. See: https://github.com/scikit-learn/scikit-learn/issues/21755 */display: inline-block !important;position: relative;}#sk-container-id-3 div.sk-text-repr-fallback {display: none;}</style><div id=\"sk-container-id-3\" class=\"sk-top-container\"><div class=\"sk-text-repr-fallback\"><pre>RandomForestClassifier(n_estimators=99)</pre><b>In a Jupyter environment, please rerun this cell to show the HTML representation or trust the notebook. <br />On GitHub, the HTML representation is unable to render, please try loading this page with nbviewer.org.</b></div><div class=\"sk-container\" hidden><div class=\"sk-item\"><div class=\"sk-estimator sk-toggleable\"><input class=\"sk-toggleable__control sk-hidden--visually\" id=\"sk-estimator-id-3\" type=\"checkbox\" checked><label for=\"sk-estimator-id-3\" class=\"sk-toggleable__label sk-toggleable__label-arrow\">RandomForestClassifier</label><div class=\"sk-toggleable__content\"><pre>RandomForestClassifier(n_estimators=99)</pre></div></div></div></div></div>"
      ],
      "text/plain": [
       "RandomForestClassifier(n_estimators=99)"
      ]
     },
     "execution_count": 108,
     "metadata": {},
     "output_type": "execute_result"
    }
   ],
   "source": [
    "loaded_model"
   ]
  },
  {
   "cell_type": "code",
   "execution_count": 110,
   "id": "70ab7393-b0df-41af-9e62-9e2e45685ef0",
   "metadata": {},
   "outputs": [
    {
     "data": {
      "text/plain": [
       "0.8360655737704918"
      ]
     },
     "execution_count": 110,
     "metadata": {},
     "output_type": "execute_result"
    }
   ],
   "source": [
    "loaded_model.score(x_test, y_test)"
   ]
  },
  {
   "cell_type": "markdown",
   "id": "f18b41b3-a02a-4c33-8125-f923efafdd94",
   "metadata": {},
   "source": [
    "this score has given when estimator == 99"
   ]
  },
  {
   "cell_type": "code",
   "execution_count": null,
   "id": "9e12e03d-feb4-4954-93f1-18c84df6a303",
   "metadata": {},
   "outputs": [],
   "source": []
  }
 ],
 "metadata": {
  "kernelspec": {
   "display_name": "Python 3 (ipykernel)",
   "language": "python",
   "name": "python3"
  },
  "language_info": {
   "codemirror_mode": {
    "name": "ipython",
    "version": 3
   },
   "file_extension": ".py",
   "mimetype": "text/x-python",
   "name": "python",
   "nbconvert_exporter": "python",
   "pygments_lexer": "ipython3",
   "version": "3.11.7"
  }
 },
 "nbformat": 4,
 "nbformat_minor": 5
}
