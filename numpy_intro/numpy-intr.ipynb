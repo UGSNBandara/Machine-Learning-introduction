{
 "cells": [
  {
   "cell_type": "code",
   "execution_count": 449,
   "id": "c75d1802-d24e-439c-a7f5-c82a879b9094",
   "metadata": {},
   "outputs": [],
   "source": [
    "import numpy as np"
   ]
  },
  {
   "cell_type": "markdown",
   "id": "f947e911-a5ad-457a-bd37-27f678b3617d",
   "metadata": {},
   "source": [
    "## Datatype & Attributes"
   ]
  },
  {
   "cell_type": "code",
   "execution_count": 451,
   "id": "ae29d170-5b29-4a8b-af65-2c10b75b69a2",
   "metadata": {},
   "outputs": [],
   "source": [
    "#main type --> ndarray | n dimension's array "
   ]
  },
  {
   "cell_type": "code",
   "execution_count": 452,
   "id": "e196fdc4-a3e0-4ba8-bcea-b81b24e4e3c1",
   "metadata": {},
   "outputs": [],
   "source": [
    "a1 = np.array([1,2,3])"
   ]
  },
  {
   "cell_type": "code",
   "execution_count": 453,
   "id": "26b37a3c-0c27-4d68-aacc-1b4688b3ee1f",
   "metadata": {},
   "outputs": [
    {
     "data": {
      "text/plain": [
       "array([1, 2, 3])"
      ]
     },
     "execution_count": 453,
     "metadata": {},
     "output_type": "execute_result"
    }
   ],
   "source": [
    "a1"
   ]
  },
  {
   "cell_type": "code",
   "execution_count": 454,
   "id": "ac06fefa-9fe2-4ac6-9ccf-942f1193d711",
   "metadata": {},
   "outputs": [
    {
     "data": {
      "text/plain": [
       "numpy.ndarray"
      ]
     },
     "execution_count": 454,
     "metadata": {},
     "output_type": "execute_result"
    }
   ],
   "source": [
    "type(a1)"
   ]
  },
  {
   "cell_type": "code",
   "execution_count": 455,
   "id": "fa7d359c-9b9d-4651-875d-a5a2c5b0e032",
   "metadata": {},
   "outputs": [
    {
     "data": {
      "text/plain": [
       "array([[5, 8, 4],\n",
       "       [4, 7, 8]])"
      ]
     },
     "execution_count": 455,
     "metadata": {},
     "output_type": "execute_result"
    }
   ],
   "source": [
    "a2 = np.array([[5,8,4],[4,7,8]])\n",
    "a2"
   ]
  },
  {
   "cell_type": "code",
   "execution_count": 456,
   "id": "c1c097ed-d49a-42ad-8c8f-1cd01206a057",
   "metadata": {},
   "outputs": [],
   "source": [
    "a3 = np.array([[[[1,2,3.5],[4.5,1,3],[7,5.6,9]],[[1,2,5.4],[7,4.8,9],[4,1.3,9]],[[4,1,2.3],[7,1,4.5],[7,1.8,9]]],[[[1,2,3.5],[4.5,1,3],[7,5.6,9]],[[1,2,5.4],[7,4.8,9],[4,1.3,9]],[[4,1,2.3],[7,1,4.5],[7,1.8,9]]]])"
   ]
  },
  {
   "cell_type": "code",
   "execution_count": 457,
   "id": "c4bf0eb5-5873-4cc1-8646-b332d39969c7",
   "metadata": {},
   "outputs": [
    {
     "data": {
      "text/plain": [
       "array([[[[1. , 2. , 3.5],\n",
       "         [4.5, 1. , 3. ],\n",
       "         [7. , 5.6, 9. ]],\n",
       "\n",
       "        [[1. , 2. , 5.4],\n",
       "         [7. , 4.8, 9. ],\n",
       "         [4. , 1.3, 9. ]],\n",
       "\n",
       "        [[4. , 1. , 2.3],\n",
       "         [7. , 1. , 4.5],\n",
       "         [7. , 1.8, 9. ]]],\n",
       "\n",
       "\n",
       "       [[[1. , 2. , 3.5],\n",
       "         [4.5, 1. , 3. ],\n",
       "         [7. , 5.6, 9. ]],\n",
       "\n",
       "        [[1. , 2. , 5.4],\n",
       "         [7. , 4.8, 9. ],\n",
       "         [4. , 1.3, 9. ]],\n",
       "\n",
       "        [[4. , 1. , 2.3],\n",
       "         [7. , 1. , 4.5],\n",
       "         [7. , 1.8, 9. ]]]])"
      ]
     },
     "execution_count": 457,
     "metadata": {},
     "output_type": "execute_result"
    }
   ],
   "source": [
    "a3"
   ]
  },
  {
   "cell_type": "code",
   "execution_count": 458,
   "id": "0e97d092-b14f-4e88-a4a7-490da94dd1c2",
   "metadata": {},
   "outputs": [
    {
     "data": {
      "text/plain": [
       "(3,)"
      ]
     },
     "execution_count": 458,
     "metadata": {},
     "output_type": "execute_result"
    }
   ],
   "source": [
    "a1.shape"
   ]
  },
  {
   "cell_type": "code",
   "execution_count": 459,
   "id": "12560a01-f86e-4441-a673-751bba54b2b2",
   "metadata": {},
   "outputs": [
    {
     "data": {
      "text/plain": [
       "(2, 3)"
      ]
     },
     "execution_count": 459,
     "metadata": {},
     "output_type": "execute_result"
    }
   ],
   "source": [
    "a2.shape"
   ]
  },
  {
   "cell_type": "code",
   "execution_count": 460,
   "id": "f6f84b08-9d3c-4cb4-b926-a65b1449a8e6",
   "metadata": {},
   "outputs": [
    {
     "data": {
      "text/plain": [
       "(2, 3, 3, 3)"
      ]
     },
     "execution_count": 460,
     "metadata": {},
     "output_type": "execute_result"
    }
   ],
   "source": [
    "a3.shape"
   ]
  },
  {
   "cell_type": "code",
   "execution_count": 461,
   "id": "0906bb6d-eaf7-4fc8-a8e5-a941cc7160a9",
   "metadata": {},
   "outputs": [],
   "source": [
    "#understand the way write the shape. it is like coming out from the inside. if like [1,2,3] --> (3, )\n",
    "#if [2,3,9],[5,5,8] it's shape --> (2,3)"
   ]
  },
  {
   "cell_type": "code",
   "execution_count": 462,
   "id": "8694c405-94b2-484c-ae71-5abe82d95996",
   "metadata": {},
   "outputs": [
    {
     "data": {
      "text/plain": [
       "dtype('int32')"
      ]
     },
     "execution_count": 462,
     "metadata": {},
     "output_type": "execute_result"
    }
   ],
   "source": [
    "a1.dtype"
   ]
  },
  {
   "cell_type": "code",
   "execution_count": 463,
   "id": "881bb771-b7b2-4dfc-9163-9b6405a9e0b5",
   "metadata": {},
   "outputs": [
    {
     "data": {
      "text/plain": [
       "(dtype('int32'), dtype('float64'))"
      ]
     },
     "execution_count": 463,
     "metadata": {},
     "output_type": "execute_result"
    }
   ],
   "source": [
    "a2.dtype, a3.dtype"
   ]
  },
  {
   "cell_type": "code",
   "execution_count": 464,
   "id": "9ad11c4b-dc3b-4bc9-ab60-4298a4fc6da9",
   "metadata": {},
   "outputs": [
    {
     "data": {
      "text/plain": [
       "(3, 6, 54)"
      ]
     },
     "execution_count": 464,
     "metadata": {},
     "output_type": "execute_result"
    }
   ],
   "source": [
    "a1.size, a2.size, a3.size"
   ]
  },
  {
   "cell_type": "code",
   "execution_count": 465,
   "id": "9000859c-dc8c-4e94-94d1-091b23745c7d",
   "metadata": {},
   "outputs": [
    {
     "data": {
      "text/plain": [
       "(numpy.ndarray, numpy.ndarray, numpy.ndarray)"
      ]
     },
     "execution_count": 465,
     "metadata": {},
     "output_type": "execute_result"
    }
   ],
   "source": [
    "type(a1), type(a2), type(a3)"
   ]
  },
  {
   "cell_type": "code",
   "execution_count": 466,
   "id": "46844099-11b4-43fb-a8e4-e4abcca4196d",
   "metadata": {},
   "outputs": [],
   "source": [
    "#lets create a data frame\n",
    "import pandas as pd"
   ]
  },
  {
   "cell_type": "code",
   "execution_count": 467,
   "id": "151dd2a8-c3d7-46f8-b831-88379d04ec78",
   "metadata": {},
   "outputs": [],
   "source": [
    "df = pd.DataFrame(a2)"
   ]
  },
  {
   "cell_type": "code",
   "execution_count": 468,
   "id": "8cd1b160-c7c6-4ebc-b506-8b5bddebc1ed",
   "metadata": {},
   "outputs": [
    {
     "data": {
      "text/html": [
       "<div>\n",
       "<style scoped>\n",
       "    .dataframe tbody tr th:only-of-type {\n",
       "        vertical-align: middle;\n",
       "    }\n",
       "\n",
       "    .dataframe tbody tr th {\n",
       "        vertical-align: top;\n",
       "    }\n",
       "\n",
       "    .dataframe thead th {\n",
       "        text-align: right;\n",
       "    }\n",
       "</style>\n",
       "<table border=\"1\" class=\"dataframe\">\n",
       "  <thead>\n",
       "    <tr style=\"text-align: right;\">\n",
       "      <th></th>\n",
       "      <th>0</th>\n",
       "      <th>1</th>\n",
       "      <th>2</th>\n",
       "    </tr>\n",
       "  </thead>\n",
       "  <tbody>\n",
       "    <tr>\n",
       "      <th>0</th>\n",
       "      <td>5</td>\n",
       "      <td>8</td>\n",
       "      <td>4</td>\n",
       "    </tr>\n",
       "    <tr>\n",
       "      <th>1</th>\n",
       "      <td>4</td>\n",
       "      <td>7</td>\n",
       "      <td>8</td>\n",
       "    </tr>\n",
       "  </tbody>\n",
       "</table>\n",
       "</div>"
      ],
      "text/plain": [
       "   0  1  2\n",
       "0  5  8  4\n",
       "1  4  7  8"
      ]
     },
     "execution_count": 468,
     "metadata": {},
     "output_type": "execute_result"
    }
   ],
   "source": [
    "df"
   ]
  },
  {
   "cell_type": "code",
   "execution_count": 469,
   "id": "49b7047c-1769-4cbc-8ace-cb3449f7f6cb",
   "metadata": {},
   "outputs": [],
   "source": [
    "# we can not convert here, it is gives an error || only 2d arrays can converted into data frame"
   ]
  },
  {
   "cell_type": "markdown",
   "id": "31e55038-2e56-40b8-abd0-dc22aea6f44c",
   "metadata": {},
   "source": [
    "## Creating arrays"
   ]
  },
  {
   "cell_type": "code",
   "execution_count": 471,
   "id": "b17e9315-d7c8-464e-8b11-008c44b1b190",
   "metadata": {},
   "outputs": [
    {
     "data": {
      "text/plain": [
       "array([2, 1, 6])"
      ]
     },
     "execution_count": 471,
     "metadata": {},
     "output_type": "execute_result"
    }
   ],
   "source": [
    "sample_array = np.array([2,1,6])\n",
    "sample_array"
   ]
  },
  {
   "cell_type": "code",
   "execution_count": 472,
   "id": "72644ec9-ad92-4b6a-9579-55e91b31c0e7",
   "metadata": {},
   "outputs": [
    {
     "data": {
      "text/plain": [
       "dtype('int32')"
      ]
     },
     "execution_count": 472,
     "metadata": {},
     "output_type": "execute_result"
    }
   ],
   "source": [
    "sample_array.dtype"
   ]
  },
  {
   "cell_type": "code",
   "execution_count": 473,
   "id": "f061b633-084d-462c-b516-82282c251e55",
   "metadata": {},
   "outputs": [],
   "source": [
    "ones = np.ones((3,3,3,3), dtype=int) "
   ]
  },
  {
   "cell_type": "code",
   "execution_count": 474,
   "id": "4fe9388c-5956-484a-828a-01a87a74bda2",
   "metadata": {},
   "outputs": [
    {
     "data": {
      "text/plain": [
       "array([[[[1, 1, 1],\n",
       "         [1, 1, 1],\n",
       "         [1, 1, 1]],\n",
       "\n",
       "        [[1, 1, 1],\n",
       "         [1, 1, 1],\n",
       "         [1, 1, 1]],\n",
       "\n",
       "        [[1, 1, 1],\n",
       "         [1, 1, 1],\n",
       "         [1, 1, 1]]],\n",
       "\n",
       "\n",
       "       [[[1, 1, 1],\n",
       "         [1, 1, 1],\n",
       "         [1, 1, 1]],\n",
       "\n",
       "        [[1, 1, 1],\n",
       "         [1, 1, 1],\n",
       "         [1, 1, 1]],\n",
       "\n",
       "        [[1, 1, 1],\n",
       "         [1, 1, 1],\n",
       "         [1, 1, 1]]],\n",
       "\n",
       "\n",
       "       [[[1, 1, 1],\n",
       "         [1, 1, 1],\n",
       "         [1, 1, 1]],\n",
       "\n",
       "        [[1, 1, 1],\n",
       "         [1, 1, 1],\n",
       "         [1, 1, 1]],\n",
       "\n",
       "        [[1, 1, 1],\n",
       "         [1, 1, 1],\n",
       "         [1, 1, 1]]]])"
      ]
     },
     "execution_count": 474,
     "metadata": {},
     "output_type": "execute_result"
    }
   ],
   "source": [
    "ones"
   ]
  },
  {
   "cell_type": "code",
   "execution_count": 475,
   "id": "c7544dc5-7f69-4632-a014-d21590bd0a63",
   "metadata": {},
   "outputs": [
    {
     "data": {
      "text/plain": [
       "numpy.ndarray"
      ]
     },
     "execution_count": 475,
     "metadata": {},
     "output_type": "execute_result"
    }
   ],
   "source": [
    "type(ones)"
   ]
  },
  {
   "cell_type": "code",
   "execution_count": 476,
   "id": "5096751b-c4a2-4ce1-8339-5b5ba01655fe",
   "metadata": {},
   "outputs": [],
   "source": [
    "zeros = np.zeros((2,2), dtype= int)"
   ]
  },
  {
   "cell_type": "code",
   "execution_count": 477,
   "id": "c28aa8ff-613c-4f97-bf0b-25a0717e2453",
   "metadata": {},
   "outputs": [
    {
     "data": {
      "text/plain": [
       "array([[0, 0],\n",
       "       [0, 0]])"
      ]
     },
     "execution_count": 477,
     "metadata": {},
     "output_type": "execute_result"
    }
   ],
   "source": [
    "zeros"
   ]
  },
  {
   "cell_type": "code",
   "execution_count": 478,
   "id": "92739970-6427-4d80-bb66-e02191b96346",
   "metadata": {},
   "outputs": [
    {
     "data": {
      "text/plain": [
       "dtype('int32')"
      ]
     },
     "execution_count": 478,
     "metadata": {},
     "output_type": "execute_result"
    }
   ],
   "source": [
    "zeros.dtype"
   ]
  },
  {
   "cell_type": "code",
   "execution_count": 479,
   "id": "67415024-ad1a-4841-80b7-0648a3a72ae1",
   "metadata": {},
   "outputs": [
    {
     "data": {
      "text/plain": [
       "array([0, 1, 2, 3, 4])"
      ]
     },
     "execution_count": 479,
     "metadata": {},
     "output_type": "execute_result"
    }
   ],
   "source": [
    "range_array = np.arange(5)\n",
    "range_array"
   ]
  },
  {
   "cell_type": "code",
   "execution_count": 480,
   "id": "317b318e-b190-412c-95ee-21805d52832a",
   "metadata": {},
   "outputs": [
    {
     "data": {
      "text/plain": [
       "array([5, 6, 7, 8])"
      ]
     },
     "execution_count": 480,
     "metadata": {},
     "output_type": "execute_result"
    }
   ],
   "source": [
    "range_array1 = np.arange(5,9)\n",
    "range_array1"
   ]
  },
  {
   "cell_type": "code",
   "execution_count": 481,
   "id": "28429d34-91c4-4e03-ac1f-de77b5676cf8",
   "metadata": {},
   "outputs": [
    {
     "data": {
      "text/plain": [
       "array([1, 4, 7])"
      ]
     },
     "execution_count": 481,
     "metadata": {},
     "output_type": "execute_result"
    }
   ],
   "source": [
    "range_array2 = np.arange(1,10,3)\n",
    "range_array2"
   ]
  },
  {
   "cell_type": "code",
   "execution_count": 482,
   "id": "13db452d-00db-41ad-afed-dcedcab8cc3b",
   "metadata": {},
   "outputs": [],
   "source": [
    "#random arrray | low - high - size - type"
   ]
  },
  {
   "cell_type": "code",
   "execution_count": 483,
   "id": "cd6c7398-d148-48fa-8121-e2c2cefd4809",
   "metadata": {},
   "outputs": [
    {
     "data": {
      "text/plain": [
       "0"
      ]
     },
     "execution_count": 483,
     "metadata": {},
     "output_type": "execute_result"
    }
   ],
   "source": [
    "random_array = np.random.randint(8)\n",
    "random_array"
   ]
  },
  {
   "cell_type": "code",
   "execution_count": 484,
   "id": "71880260-f79b-40ae-9e2b-4ad28382e39f",
   "metadata": {},
   "outputs": [
    {
     "data": {
      "text/plain": [
       "6"
      ]
     },
     "execution_count": 484,
     "metadata": {},
     "output_type": "execute_result"
    }
   ],
   "source": [
    "ra2 = np.random.randint(5,10)\n",
    "ra2"
   ]
  },
  {
   "cell_type": "raw",
   "id": "5e918df9-f031-4389-bd5b-3ddb65304bdf",
   "metadata": {},
   "source": [
    "ra3 = np.random.randint(1,8,5)\n",
    "ra3"
   ]
  },
  {
   "cell_type": "code",
   "execution_count": 485,
   "id": "55e75c15-4747-4023-98b7-3c74ef58d1b3",
   "metadata": {},
   "outputs": [
    {
     "data": {
      "text/plain": [
       "array([2, 2, 2, 1, 2, 1, 4, 1])"
      ]
     },
     "execution_count": 485,
     "metadata": {},
     "output_type": "execute_result"
    }
   ],
   "source": [
    "ra4 = np.random.randint(1,5,8,dtype=int)\n",
    "ra4"
   ]
  },
  {
   "cell_type": "code",
   "execution_count": 486,
   "id": "22e689c9-71fb-439c-9519-c57ee9bd0c10",
   "metadata": {},
   "outputs": [
    {
     "data": {
      "text/plain": [
       "array([[[ 3,  5, 14,  0,  2],\n",
       "        [ 3,  8,  1,  3, 13],\n",
       "        [ 3,  3, 14,  7,  0]],\n",
       "\n",
       "       [[ 1,  9,  9,  0, 10],\n",
       "        [ 4,  7,  3, 14, 11],\n",
       "        [ 2,  7, 12,  2,  0]],\n",
       "\n",
       "       [[ 0,  4,  5,  5,  6],\n",
       "        [ 8,  4,  1,  4,  9],\n",
       "        [10, 10,  8,  1,  1]]])"
      ]
     },
     "execution_count": 486,
     "metadata": {},
     "output_type": "execute_result"
    }
   ],
   "source": [
    "ra5 = np.random.randint(0,15,size=(3,3,5))\n",
    "ra5"
   ]
  },
  {
   "cell_type": "code",
   "execution_count": 487,
   "id": "03093c3b-34f6-46ca-9e36-c7d638846a8d",
   "metadata": {},
   "outputs": [],
   "source": [
    "## here we can give the size as the shape "
   ]
  },
  {
   "cell_type": "code",
   "execution_count": 488,
   "id": "043eba7c-79e7-435c-aff9-fb1276cf8213",
   "metadata": {},
   "outputs": [
    {
     "data": {
      "text/plain": [
       "array([[0.09928035, 0.96980907],\n",
       "       [0.65314004, 0.17090959],\n",
       "       [0.35815217, 0.75068614]])"
      ]
     },
     "execution_count": 488,
     "metadata": {},
     "output_type": "execute_result"
    }
   ],
   "source": [
    "#here we gives only the shape\n",
    "#in python random() generate random floats between 0 - 1\n",
    "ra6 = np.random.random((3,2))\n",
    "ra6"
   ]
  },
  {
   "cell_type": "code",
   "execution_count": 489,
   "id": "87ede548-716c-4069-9ecd-ff41f20e6945",
   "metadata": {},
   "outputs": [
    {
     "data": {
      "text/plain": [
       "array([[0.60783067, 0.32504723],\n",
       "       [0.03842543, 0.63427406],\n",
       "       [0.95894927, 0.65279032]])"
      ]
     },
     "execution_count": 489,
     "metadata": {},
     "output_type": "execute_result"
    }
   ],
   "source": [
    "#this can be achive using np.random.rand() also\n",
    "ar7 = np.random.rand(3,2)\n",
    "ar7"
   ]
  },
  {
   "cell_type": "code",
   "execution_count": 490,
   "id": "92643b25-3760-4146-ad3e-c210fc6c1264",
   "metadata": {},
   "outputs": [],
   "source": [
    "## similer result we get"
   ]
  },
  {
   "cell_type": "markdown",
   "id": "b19aaeb8-1b2b-4184-a011-e270525d7854",
   "metadata": {},
   "source": [
    "\n",
    "Random seeds -- pseudo-random number\n"
   ]
  },
  {
   "cell_type": "markdown",
   "id": "0c495d6e-f979-4995-b67f-2e152d195ebe",
   "metadata": {},
   "source": [
    "up here random function that we use genarate different random number whenever it run\n",
    "again and again"
   ]
  },
  {
   "cell_type": "code",
   "execution_count": 493,
   "id": "e25de132-c362-4bb7-a181-bb007b579175",
   "metadata": {},
   "outputs": [
    {
     "data": {
      "text/plain": [
       "array([[5, 0, 3, 3, 7],\n",
       "       [9, 3, 5, 2, 4],\n",
       "       [7, 6, 8, 8, 1]])"
      ]
     },
     "execution_count": 493,
     "metadata": {},
     "output_type": "execute_result"
    }
   ],
   "source": [
    "#but\n",
    "np.random.seed(seed=0)\n",
    "ra8 = np.random.randint(10,size=(3,5))\n",
    "ra8"
   ]
  },
  {
   "cell_type": "code",
   "execution_count": 494,
   "id": "5fa776d4-27d0-4a5b-8ee8-e3944721791f",
   "metadata": {},
   "outputs": [],
   "source": [
    "#the elements of array's mpt change time to time when it run"
   ]
  },
  {
   "cell_type": "code",
   "execution_count": 495,
   "id": "67b93c03-9774-47d1-a23c-d71976cdf160",
   "metadata": {},
   "outputs": [
    {
     "data": {
      "text/plain": [
       "array([[0.5488135 , 0.71518937, 0.60276338],\n",
       "       [0.54488318, 0.4236548 , 0.64589411],\n",
       "       [0.43758721, 0.891773  , 0.96366276],\n",
       "       [0.38344152, 0.79172504, 0.52889492],\n",
       "       [0.56804456, 0.92559664, 0.07103606]])"
      ]
     },
     "execution_count": 495,
     "metadata": {},
     "output_type": "execute_result"
    }
   ],
   "source": [
    "np.random.seed(seed=0)\n",
    "ra9 = np.random.random((5,3))\n",
    "ra9"
   ]
  },
  {
   "cell_type": "markdown",
   "id": "e3fd2a54-bc27-4c83-8a18-f22d1f3202ac",
   "metadata": {},
   "source": [
    "## viewing arrays and matrices"
   ]
  },
  {
   "cell_type": "markdown",
   "id": "bfc43bc2-4cf8-487c-896a-1c0bb46a4f5f",
   "metadata": {},
   "source": [
    "uniqe array  "
   ]
  },
  {
   "cell_type": "code",
   "execution_count": 498,
   "id": "d4b3f8c0-8eb7-4ac1-9490-1a0f6f8d7284",
   "metadata": {},
   "outputs": [
    {
     "data": {
      "text/plain": [
       "array([1, 2, 3, 4, 5])"
      ]
     },
     "execution_count": 498,
     "metadata": {},
     "output_type": "execute_result"
    }
   ],
   "source": [
    "np.unique([1,2,5,4,2,1,3,2,1,2])"
   ]
  },
  {
   "cell_type": "code",
   "execution_count": 499,
   "id": "9c6c9405-c6a2-476a-a4c4-047e702db120",
   "metadata": {},
   "outputs": [],
   "source": [
    "a = np.array([[1,2,3,1,2],[1,5,4,2,1]])"
   ]
  },
  {
   "cell_type": "code",
   "execution_count": 500,
   "id": "620ed7ae-0636-4629-b2fe-07a8f00c58a4",
   "metadata": {},
   "outputs": [
    {
     "data": {
      "text/plain": [
       "array([1, 2, 3, 4, 5])"
      ]
     },
     "execution_count": 500,
     "metadata": {},
     "output_type": "execute_result"
    }
   ],
   "source": [
    "np.unique(a)"
   ]
  },
  {
   "cell_type": "code",
   "execution_count": 501,
   "id": "00b33678-d915-4726-bf8d-088156029162",
   "metadata": {},
   "outputs": [
    {
     "data": {
      "text/plain": [
       "array([[1, 2, 3, 1, 2],\n",
       "       [1, 5, 4, 2, 1]])"
      ]
     },
     "execution_count": 501,
     "metadata": {},
     "output_type": "execute_result"
    }
   ],
   "source": [
    "np.unique(a, axis=0)"
   ]
  },
  {
   "cell_type": "markdown",
   "id": "c27b81d7-7e4e-4fef-9d57-a4755986af95",
   "metadata": {},
   "source": [
    "<--- this remove the same rows not the elements  "
   ]
  },
  {
   "cell_type": "code",
   "execution_count": 503,
   "id": "68e1bbc6-2854-44b2-a35c-e528353ad513",
   "metadata": {},
   "outputs": [],
   "source": [
    "a2 = np.array([[1,2,1],[1,2,1],[3,5,3]])"
   ]
  },
  {
   "cell_type": "code",
   "execution_count": 504,
   "id": "6a95acce-6b50-464a-83ff-e35fba08f27d",
   "metadata": {},
   "outputs": [
    {
     "data": {
      "text/plain": [
       "array([[1, 2, 1],\n",
       "       [3, 5, 3]])"
      ]
     },
     "execution_count": 504,
     "metadata": {},
     "output_type": "execute_result"
    }
   ],
   "source": [
    "np.unique(a2, axis=0)"
   ]
  },
  {
   "cell_type": "markdown",
   "id": "63b91f59-e902-4c6c-ae42-1a53eeb39227",
   "metadata": {},
   "source": [
    "there was 1,2,1 2 rwos before using uniqu function and now have only one"
   ]
  },
  {
   "cell_type": "code",
   "execution_count": 506,
   "id": "36ec7e2b-7bde-4e93-a05a-a6407818d70c",
   "metadata": {},
   "outputs": [],
   "source": [
    "##indexing"
   ]
  },
  {
   "cell_type": "code",
   "execution_count": 507,
   "id": "815559b2-d7a6-4354-aeff-d403332ce32b",
   "metadata": {},
   "outputs": [
    {
     "data": {
      "text/plain": [
       "array([[[9, 4, 3],\n",
       "        [0, 3, 5],\n",
       "        [0, 2, 3]],\n",
       "\n",
       "       [[8, 1, 3],\n",
       "        [3, 3, 7],\n",
       "        [0, 1, 9]],\n",
       "\n",
       "       [[9, 0, 4],\n",
       "        [7, 3, 2],\n",
       "        [7, 2, 0]]])"
      ]
     },
     "execution_count": 507,
     "metadata": {},
     "output_type": "execute_result"
    }
   ],
   "source": [
    "ar = np.random.randint(10, size=(3,3,3))\n",
    "ar"
   ]
  },
  {
   "cell_type": "code",
   "execution_count": 508,
   "id": "bfe79042-04cf-49ab-8996-30b3d359e326",
   "metadata": {},
   "outputs": [
    {
     "data": {
      "text/plain": [
       "array([[9, 4, 3],\n",
       "       [0, 3, 5],\n",
       "       [0, 2, 3]])"
      ]
     },
     "execution_count": 508,
     "metadata": {},
     "output_type": "execute_result"
    }
   ],
   "source": [
    "ar[0]"
   ]
  },
  {
   "cell_type": "code",
   "execution_count": 509,
   "id": "c8482ee8-35c1-4efb-982b-1c2e168ccb2b",
   "metadata": {},
   "outputs": [
    {
     "data": {
      "text/plain": [
       "array([[9, 0, 4],\n",
       "       [7, 3, 2],\n",
       "       [7, 2, 0]])"
      ]
     },
     "execution_count": 509,
     "metadata": {},
     "output_type": "execute_result"
    }
   ],
   "source": [
    "ar[2]"
   ]
  },
  {
   "cell_type": "code",
   "execution_count": 510,
   "id": "9b91c89e-3e61-4f08-a65a-a831845ff61e",
   "metadata": {},
   "outputs": [
    {
     "data": {
      "text/plain": [
       "array([9, 4, 3])"
      ]
     },
     "execution_count": 510,
     "metadata": {},
     "output_type": "execute_result"
    }
   ],
   "source": [
    "ar[0,0]"
   ]
  },
  {
   "cell_type": "code",
   "execution_count": 511,
   "id": "f1a53dd8-1c14-4ca6-bccf-197783265bfa",
   "metadata": {},
   "outputs": [
    {
     "data": {
      "text/plain": [
       "array([0, 3, 5])"
      ]
     },
     "execution_count": 511,
     "metadata": {},
     "output_type": "execute_result"
    }
   ],
   "source": [
    "ar[0,1]"
   ]
  },
  {
   "cell_type": "code",
   "execution_count": 512,
   "id": "8a3d0d01-beb4-4f7e-b9cd-6d58367402b8",
   "metadata": {},
   "outputs": [
    {
     "data": {
      "text/plain": [
       "9"
      ]
     },
     "execution_count": 512,
     "metadata": {},
     "output_type": "execute_result"
    }
   ],
   "source": [
    "ar[0,0,0]"
   ]
  },
  {
   "cell_type": "markdown",
   "id": "4d1c3bb3-596a-495b-bdc3-0a7c8936afd4",
   "metadata": {},
   "source": [
    "matrix = array with dimension higher than 1"
   ]
  },
  {
   "cell_type": "code",
   "execution_count": 514,
   "id": "481b261b-f5e8-478f-bfaa-098218d30dac",
   "metadata": {},
   "outputs": [
    {
     "data": {
      "text/plain": [
       "array([[[9, 4, 3],\n",
       "        [0, 3, 5],\n",
       "        [0, 2, 3]],\n",
       "\n",
       "       [[8, 1, 3],\n",
       "        [3, 3, 7],\n",
       "        [0, 1, 9]],\n",
       "\n",
       "       [[9, 0, 4],\n",
       "        [7, 3, 2],\n",
       "        [7, 2, 0]]])"
      ]
     },
     "execution_count": 514,
     "metadata": {},
     "output_type": "execute_result"
    }
   ],
   "source": [
    "ar"
   ]
  },
  {
   "cell_type": "code",
   "execution_count": 515,
   "id": "034598b1-05c9-4dc7-8fb4-3b284043faf0",
   "metadata": {},
   "outputs": [
    {
     "data": {
      "text/plain": [
       "array([[[9, 4, 3],\n",
       "        [0, 3, 5],\n",
       "        [0, 2, 3]],\n",
       "\n",
       "       [[8, 1, 3],\n",
       "        [3, 3, 7],\n",
       "        [0, 1, 9]]])"
      ]
     },
     "execution_count": 515,
     "metadata": {},
     "output_type": "execute_result"
    }
   ],
   "source": [
    "ar[:2]"
   ]
  },
  {
   "cell_type": "code",
   "execution_count": 516,
   "id": "cbe43ddb-ba62-4f65-be65-9ceaee521fe4",
   "metadata": {},
   "outputs": [
    {
     "data": {
      "text/plain": [
       "array([[[9, 4, 3],\n",
       "        [0, 3, 5]],\n",
       "\n",
       "       [[8, 1, 3],\n",
       "        [3, 3, 7]]])"
      ]
     },
     "execution_count": 516,
     "metadata": {},
     "output_type": "execute_result"
    }
   ],
   "source": [
    "ar[:2, :2]"
   ]
  },
  {
   "cell_type": "code",
   "execution_count": 517,
   "id": "20286e1e-f610-47b9-9777-ff74f3e3e6af",
   "metadata": {},
   "outputs": [
    {
     "data": {
      "text/plain": [
       "array([[[9, 4],\n",
       "        [0, 3]],\n",
       "\n",
       "       [[8, 1],\n",
       "        [3, 3]]])"
      ]
     },
     "execution_count": 517,
     "metadata": {},
     "output_type": "execute_result"
    }
   ],
   "source": [
    "ar[:2, :2, :2]"
   ]
  },
  {
   "cell_type": "code",
   "execution_count": 518,
   "id": "083594e7-bc64-4cc6-b8f6-2c7c73ac3168",
   "metadata": {},
   "outputs": [
    {
     "data": {
      "text/plain": [
       "3"
      ]
     },
     "execution_count": 518,
     "metadata": {},
     "output_type": "execute_result"
    }
   ],
   "source": [
    "ar.ndim"
   ]
  },
  {
   "cell_type": "code",
   "execution_count": 519,
   "id": "e7f72073-51db-44bd-99f3-7f939eb8cc81",
   "metadata": {},
   "outputs": [
    {
     "data": {
      "text/plain": [
       "array([[[9, 4],\n",
       "        [0, 3],\n",
       "        [0, 2]],\n",
       "\n",
       "       [[8, 1],\n",
       "        [3, 3],\n",
       "        [0, 1]],\n",
       "\n",
       "       [[9, 0],\n",
       "        [7, 3],\n",
       "        [7, 2]]])"
      ]
     },
     "execution_count": 519,
     "metadata": {},
     "output_type": "execute_result"
    }
   ],
   "source": [
    "ar[:, :, :2]"
   ]
  },
  {
   "cell_type": "markdown",
   "id": "a2f6ad9e-e9ec-4ceb-a9bd-0881d6cc7573",
   "metadata": {},
   "source": [
    "gives only the 1st 2 element in inermost arrays, lower lvel array"
   ]
  },
  {
   "cell_type": "code",
   "execution_count": 521,
   "id": "63ed8627-3b25-4a07-9c5b-76122a452b6b",
   "metadata": {},
   "outputs": [
    {
     "data": {
      "text/plain": [
       "array([[[[0, 4, 5, 5, 6],\n",
       "         [8, 4, 1, 4, 9],\n",
       "         [8, 1, 1, 7, 9],\n",
       "         [9, 3, 6, 7, 2]],\n",
       "\n",
       "        [[0, 3, 5, 9, 4],\n",
       "         [4, 6, 4, 4, 3],\n",
       "         [4, 4, 8, 4, 3],\n",
       "         [7, 5, 5, 0, 1]],\n",
       "\n",
       "        [[5, 9, 3, 0, 5],\n",
       "         [0, 1, 2, 4, 2],\n",
       "         [0, 3, 2, 0, 7],\n",
       "         [5, 9, 0, 2, 7]],\n",
       "\n",
       "        [[2, 9, 2, 3, 3],\n",
       "         [2, 3, 4, 1, 2],\n",
       "         [9, 1, 4, 6, 8],\n",
       "         [2, 3, 0, 0, 6]]],\n",
       "\n",
       "\n",
       "       [[[0, 6, 3, 3, 8],\n",
       "         [8, 8, 2, 3, 2],\n",
       "         [0, 8, 8, 3, 8],\n",
       "         [2, 8, 4, 3, 0]],\n",
       "\n",
       "        [[4, 3, 6, 9, 8],\n",
       "         [0, 8, 5, 9, 0],\n",
       "         [9, 6, 5, 3, 1],\n",
       "         [8, 0, 4, 9, 6]],\n",
       "\n",
       "        [[5, 7, 8, 8, 9],\n",
       "         [2, 8, 6, 6, 9],\n",
       "         [1, 6, 8, 8, 3],\n",
       "         [2, 3, 6, 3, 6]],\n",
       "\n",
       "        [[5, 7, 0, 8, 4],\n",
       "         [6, 5, 8, 2, 3],\n",
       "         [9, 7, 5, 3, 4],\n",
       "         [5, 3, 3, 7, 9]]],\n",
       "\n",
       "\n",
       "       [[[9, 9, 7, 3, 2],\n",
       "         [3, 9, 7, 7, 5],\n",
       "         [1, 2, 2, 8, 1],\n",
       "         [5, 8, 4, 0, 2]],\n",
       "\n",
       "        [[5, 5, 0, 8, 1],\n",
       "         [1, 0, 3, 8, 8],\n",
       "         [4, 4, 0, 9, 3],\n",
       "         [7, 3, 2, 1, 1]],\n",
       "\n",
       "        [[2, 1, 4, 2, 5],\n",
       "         [5, 5, 2, 5, 7],\n",
       "         [7, 6, 1, 6, 7],\n",
       "         [2, 3, 1, 9, 5]],\n",
       "\n",
       "        [[9, 9, 2, 0, 9],\n",
       "         [1, 9, 0, 6, 0],\n",
       "         [4, 8, 4, 3, 3],\n",
       "         [8, 8, 7, 0, 3]]],\n",
       "\n",
       "\n",
       "       [[[8, 7, 7, 1, 8],\n",
       "         [4, 7, 0, 4, 9],\n",
       "         [0, 6, 4, 2, 4],\n",
       "         [6, 3, 3, 7, 8]],\n",
       "\n",
       "        [[5, 0, 8, 5, 4],\n",
       "         [7, 4, 1, 3, 3],\n",
       "         [9, 2, 5, 2, 3],\n",
       "         [5, 7, 2, 7, 1]],\n",
       "\n",
       "        [[6, 5, 0, 0, 3],\n",
       "         [1, 9, 9, 6, 6],\n",
       "         [7, 8, 8, 7, 0],\n",
       "         [8, 6, 8, 9, 8]],\n",
       "\n",
       "        [[3, 6, 1, 7, 4],\n",
       "         [9, 2, 0, 8, 2],\n",
       "         [7, 8, 4, 4, 1],\n",
       "         [7, 6, 9, 4, 1]]]])"
      ]
     },
     "execution_count": 521,
     "metadata": {},
     "output_type": "execute_result"
    }
   ],
   "source": [
    "#ex :\n",
    "arr = np.random.randint(10, size=(4,4,4,5))\n",
    "arr"
   ]
  },
  {
   "cell_type": "code",
   "execution_count": 522,
   "id": "c18d14cb-3eb6-4b1b-9b36-0c7decd793d4",
   "metadata": {},
   "outputs": [
    {
     "data": {
      "text/plain": [
       "array([[[[0, 4, 5, 5],\n",
       "         [8, 4, 1, 4],\n",
       "         [8, 1, 1, 7],\n",
       "         [9, 3, 6, 7]],\n",
       "\n",
       "        [[0, 3, 5, 9],\n",
       "         [4, 6, 4, 4],\n",
       "         [4, 4, 8, 4],\n",
       "         [7, 5, 5, 0]],\n",
       "\n",
       "        [[5, 9, 3, 0],\n",
       "         [0, 1, 2, 4],\n",
       "         [0, 3, 2, 0],\n",
       "         [5, 9, 0, 2]],\n",
       "\n",
       "        [[2, 9, 2, 3],\n",
       "         [2, 3, 4, 1],\n",
       "         [9, 1, 4, 6],\n",
       "         [2, 3, 0, 0]]],\n",
       "\n",
       "\n",
       "       [[[0, 6, 3, 3],\n",
       "         [8, 8, 2, 3],\n",
       "         [0, 8, 8, 3],\n",
       "         [2, 8, 4, 3]],\n",
       "\n",
       "        [[4, 3, 6, 9],\n",
       "         [0, 8, 5, 9],\n",
       "         [9, 6, 5, 3],\n",
       "         [8, 0, 4, 9]],\n",
       "\n",
       "        [[5, 7, 8, 8],\n",
       "         [2, 8, 6, 6],\n",
       "         [1, 6, 8, 8],\n",
       "         [2, 3, 6, 3]],\n",
       "\n",
       "        [[5, 7, 0, 8],\n",
       "         [6, 5, 8, 2],\n",
       "         [9, 7, 5, 3],\n",
       "         [5, 3, 3, 7]]],\n",
       "\n",
       "\n",
       "       [[[9, 9, 7, 3],\n",
       "         [3, 9, 7, 7],\n",
       "         [1, 2, 2, 8],\n",
       "         [5, 8, 4, 0]],\n",
       "\n",
       "        [[5, 5, 0, 8],\n",
       "         [1, 0, 3, 8],\n",
       "         [4, 4, 0, 9],\n",
       "         [7, 3, 2, 1]],\n",
       "\n",
       "        [[2, 1, 4, 2],\n",
       "         [5, 5, 2, 5],\n",
       "         [7, 6, 1, 6],\n",
       "         [2, 3, 1, 9]],\n",
       "\n",
       "        [[9, 9, 2, 0],\n",
       "         [1, 9, 0, 6],\n",
       "         [4, 8, 4, 3],\n",
       "         [8, 8, 7, 0]]],\n",
       "\n",
       "\n",
       "       [[[8, 7, 7, 1],\n",
       "         [4, 7, 0, 4],\n",
       "         [0, 6, 4, 2],\n",
       "         [6, 3, 3, 7]],\n",
       "\n",
       "        [[5, 0, 8, 5],\n",
       "         [7, 4, 1, 3],\n",
       "         [9, 2, 5, 2],\n",
       "         [5, 7, 2, 7]],\n",
       "\n",
       "        [[6, 5, 0, 0],\n",
       "         [1, 9, 9, 6],\n",
       "         [7, 8, 8, 7],\n",
       "         [8, 6, 8, 9]],\n",
       "\n",
       "        [[3, 6, 1, 7],\n",
       "         [9, 2, 0, 8],\n",
       "         [7, 8, 4, 4],\n",
       "         [7, 6, 9, 4]]]])"
      ]
     },
     "execution_count": 522,
     "metadata": {},
     "output_type": "execute_result"
    }
   ],
   "source": [
    "#now i am gonna get array with : 4,4,4,4 shape\n",
    "arr[:,:,:,:4]"
   ]
  },
  {
   "cell_type": "code",
   "execution_count": 523,
   "id": "cf1a67d0-46bc-4946-adfe-8b5643e9b257",
   "metadata": {},
   "outputs": [
    {
     "data": {
      "text/plain": [
       "array([[[[0, 4],\n",
       "         [8, 4]],\n",
       "\n",
       "        [[0, 3],\n",
       "         [4, 6]]],\n",
       "\n",
       "\n",
       "       [[[0, 6],\n",
       "         [8, 8]],\n",
       "\n",
       "        [[4, 3],\n",
       "         [0, 8]]],\n",
       "\n",
       "\n",
       "       [[[9, 9],\n",
       "         [3, 9]],\n",
       "\n",
       "        [[5, 5],\n",
       "         [1, 0]]],\n",
       "\n",
       "\n",
       "       [[[8, 7],\n",
       "         [4, 7]],\n",
       "\n",
       "        [[5, 0],\n",
       "         [7, 4]]]])"
      ]
     },
     "execution_count": 523,
     "metadata": {},
     "output_type": "execute_result"
    }
   ],
   "source": [
    "#lets get arr with the shape, 4,2,2,2\n",
    "arr[:,:2, :2, :2]"
   ]
  },
  {
   "cell_type": "markdown",
   "id": "7500f53c-dcee-4969-b569-d13992919f69",
   "metadata": {},
   "source": [
    "## Manipulating arrays "
   ]
  },
  {
   "cell_type": "markdown",
   "id": "2989b780-265d-4a69-9fe0-c29bbf400d01",
   "metadata": {},
   "source": [
    "### Arithmatic"
   ]
  },
  {
   "cell_type": "code",
   "execution_count": 526,
   "id": "22ef0c28-6451-4e50-8226-7a320a551c18",
   "metadata": {},
   "outputs": [],
   "source": [
    "np.random.seed(seed = 0)\n",
    "ma1 = np.random.randint(10, size=(3,3))\n"
   ]
  },
  {
   "cell_type": "code",
   "execution_count": 527,
   "id": "267c6d87-d67e-403c-b8cb-89877e7aa0aa",
   "metadata": {},
   "outputs": [],
   "source": [
    "ma2 = np.ones((3,3))"
   ]
  },
  {
   "cell_type": "code",
   "execution_count": 528,
   "id": "f3cb4fe6-af49-4dd3-83e1-059f92160caf",
   "metadata": {},
   "outputs": [
    {
     "data": {
      "text/plain": [
       "(array([[5, 0, 3],\n",
       "        [3, 7, 9],\n",
       "        [3, 5, 2]]),\n",
       " array([[1., 1., 1.],\n",
       "        [1., 1., 1.],\n",
       "        [1., 1., 1.]]))"
      ]
     },
     "execution_count": 528,
     "metadata": {},
     "output_type": "execute_result"
    }
   ],
   "source": [
    "ma1 , ma2"
   ]
  },
  {
   "cell_type": "code",
   "execution_count": 529,
   "id": "2bb072e4-bb44-4a19-8df3-882c1c14692c",
   "metadata": {},
   "outputs": [
    {
     "data": {
      "text/plain": [
       "array([[ 6.,  1.,  4.],\n",
       "       [ 4.,  8., 10.],\n",
       "       [ 4.,  6.,  3.]])"
      ]
     },
     "execution_count": 529,
     "metadata": {},
     "output_type": "execute_result"
    }
   ],
   "source": [
    "ma1+ma2"
   ]
  },
  {
   "cell_type": "code",
   "execution_count": 530,
   "id": "7aa4c4dd-bb90-416b-89b7-bb5c418a259a",
   "metadata": {},
   "outputs": [],
   "source": [
    "#what could be happen is we do these arithmatics for  matrices with differnt shapes\n",
    "np.random.seed(seed = 0)\n",
    "ma3 = np.random.randint(10, size=(2,3))"
   ]
  },
  {
   "cell_type": "code",
   "execution_count": 531,
   "id": "eeef8e1c-70ae-474c-9389-f13170779a25",
   "metadata": {},
   "outputs": [
    {
     "data": {
      "text/plain": [
       "array([[5, 0, 3],\n",
       "       [3, 7, 9]])"
      ]
     },
     "execution_count": 531,
     "metadata": {},
     "output_type": "execute_result"
    }
   ],
   "source": [
    "ma3"
   ]
  },
  {
   "cell_type": "code",
   "execution_count": 532,
   "id": "fe2b19fe-3257-4a0f-b796-7bc8768e7f5f",
   "metadata": {},
   "outputs": [],
   "source": [
    "##when the shpaes are not eual simple arithmatic operations can no tbe done on arrays\n",
    "\n",
    "#ma3+ma1 --> (2,3) (3,3)"
   ]
  },
  {
   "cell_type": "markdown",
   "id": "7c8ee296-9ff2-4b47-b364-2502b7441ca7",
   "metadata": {},
   "source": [
    "See we can not sumup different shape's matrices"
   ]
  },
  {
   "cell_type": "code",
   "execution_count": 534,
   "id": "98d97a91-bd9d-4c2c-94df-cba60e7a2224",
   "metadata": {},
   "outputs": [
    {
     "data": {
      "text/plain": [
       "array([[5., 0., 3.],\n",
       "       [3., 7., 9.],\n",
       "       [3., 5., 2.]])"
      ]
     },
     "execution_count": 534,
     "metadata": {},
     "output_type": "execute_result"
    }
   ],
   "source": [
    "ma1*ma2 #--> (3,3) (3,3)"
   ]
  },
  {
   "cell_type": "code",
   "execution_count": 535,
   "id": "d3ae9856-b2a8-48ab-98c0-696d8c8f9de5",
   "metadata": {},
   "outputs": [],
   "source": [
    "## ma1*ma3---> (3,3) (2,3)"
   ]
  },
  {
   "cell_type": "code",
   "execution_count": 536,
   "id": "ced9daff-b265-49a9-a6fe-7bb5ea2d66c0",
   "metadata": {},
   "outputs": [],
   "source": [
    "# see, what will br the result if multiply, (3,3) * (3,2)\n",
    "np.random.seed(seed = 0)\n",
    "ma4 = np.random.randint(10, size=(3,2))\n"
   ]
  },
  {
   "cell_type": "code",
   "execution_count": 537,
   "id": "d15d8c6b-bec1-4dce-9644-7fda45e11df6",
   "metadata": {},
   "outputs": [
    {
     "data": {
      "text/plain": [
       "array([[5, 0],\n",
       "       [3, 3],\n",
       "       [7, 9]])"
      ]
     },
     "execution_count": 537,
     "metadata": {},
     "output_type": "execute_result"
    }
   ],
   "source": [
    "ma4"
   ]
  },
  {
   "cell_type": "code",
   "execution_count": 538,
   "id": "c068712a-1d22-4b50-b325-bb786f00da9b",
   "metadata": {},
   "outputs": [],
   "source": [
    "#m1*m4 ---> (3,3) (3,2) can not\n",
    "#May be we can reshape ? IDK lets check it later "
   ]
  },
  {
   "cell_type": "code",
   "execution_count": 539,
   "id": "ebeab33d-11d6-48d9-aaa3-5575d6ccb6ea",
   "metadata": {},
   "outputs": [
    {
     "data": {
      "text/plain": [
       "array([[False, False, False],\n",
       "       [False, False, False],\n",
       "       [False, False, False]])"
      ]
     },
     "execution_count": 539,
     "metadata": {},
     "output_type": "execute_result"
    }
   ],
   "source": [
    "ma1 == ma2"
   ]
  },
  {
   "cell_type": "code",
   "execution_count": 540,
   "id": "64f530f3-1695-4b4b-9649-49cd04d7f486",
   "metadata": {},
   "outputs": [
    {
     "data": {
      "text/plain": [
       "array([[ True, False,  True],\n",
       "       [ True,  True,  True],\n",
       "       [ True,  True,  True]])"
      ]
     },
     "execution_count": 540,
     "metadata": {},
     "output_type": "execute_result"
    }
   ],
   "source": [
    "ma1>ma2"
   ]
  },
  {
   "cell_type": "code",
   "execution_count": 541,
   "id": "25fd5d33-0761-4c82-9a98-bb4e1d7a7f8e",
   "metadata": {},
   "outputs": [
    {
     "data": {
      "text/plain": [
       "array([[5., 0., 3.],\n",
       "       [3., 7., 9.],\n",
       "       [3., 5., 2.]])"
      ]
     },
     "execution_count": 541,
     "metadata": {},
     "output_type": "execute_result"
    }
   ],
   "source": [
    "ma1/ma2"
   ]
  },
  {
   "cell_type": "code",
   "execution_count": 542,
   "id": "7823bbd8-2fd4-434d-8e97-9f49f2f2167b",
   "metadata": {},
   "outputs": [],
   "source": [
    "## // --> floor division remove the desimals"
   ]
  },
  {
   "cell_type": "code",
   "execution_count": 543,
   "id": "a76b8f95-4708-4f9a-a299-9b9cb0307c65",
   "metadata": {},
   "outputs": [
    {
     "data": {
      "text/plain": [
       "4.0"
      ]
     },
     "execution_count": 543,
     "metadata": {},
     "output_type": "execute_result"
    }
   ],
   "source": [
    "4.5921//1"
   ]
  },
  {
   "cell_type": "code",
   "execution_count": 544,
   "id": "48448058-f35c-4b92-9c55-ceb8163b5d73",
   "metadata": {},
   "outputs": [
    {
     "data": {
      "text/plain": [
       "16"
      ]
     },
     "execution_count": 544,
     "metadata": {},
     "output_type": "execute_result"
    }
   ],
   "source": [
    "## 4**2 gives the square of 4\n",
    "4**2"
   ]
  },
  {
   "cell_type": "code",
   "execution_count": 545,
   "id": "f134b8c3-4cc6-48da-9980-df531d4f7ba9",
   "metadata": {},
   "outputs": [
    {
     "data": {
      "text/plain": [
       "array([[5, 0, 3],\n",
       "       [3, 7, 9],\n",
       "       [3, 5, 2]])"
      ]
     },
     "execution_count": 545,
     "metadata": {},
     "output_type": "execute_result"
    }
   ],
   "source": [
    "ma1"
   ]
  },
  {
   "cell_type": "code",
   "execution_count": 546,
   "id": "05adc9f9-467c-4743-b8e8-0a40d6e61e31",
   "metadata": {},
   "outputs": [
    {
     "data": {
      "text/plain": [
       "array([[25,  0,  9],\n",
       "       [ 9, 49, 81],\n",
       "       [ 9, 25,  4]])"
      ]
     },
     "execution_count": 546,
     "metadata": {},
     "output_type": "execute_result"
    }
   ],
   "source": [
    "np.square(ma1)"
   ]
  },
  {
   "cell_type": "code",
   "execution_count": 547,
   "id": "db2e6929-ebd2-43c0-94ee-669a49e8a09f",
   "metadata": {},
   "outputs": [
    {
     "data": {
      "text/plain": [
       "array([[ 6.,  1.,  4.],\n",
       "       [ 4.,  8., 10.],\n",
       "       [ 4.,  6.,  3.]])"
      ]
     },
     "execution_count": 547,
     "metadata": {},
     "output_type": "execute_result"
    }
   ],
   "source": [
    "np.add(ma1,ma2)"
   ]
  },
  {
   "cell_type": "code",
   "execution_count": 548,
   "id": "227142ae-8844-4753-8277-a626cfca62bd",
   "metadata": {},
   "outputs": [
    {
     "data": {
      "text/plain": [
       "array([[1, 0, 1],\n",
       "       [1, 1, 1],\n",
       "       [1, 1, 0]], dtype=int32)"
      ]
     },
     "execution_count": 548,
     "metadata": {},
     "output_type": "execute_result"
    }
   ],
   "source": [
    "ma1%2"
   ]
  },
  {
   "cell_type": "code",
   "execution_count": 549,
   "id": "724bc3a1-5294-452c-bbc5-4e10144c4c4d",
   "metadata": {},
   "outputs": [
    {
     "data": {
      "text/plain": [
       "array([[1.48413159e+02, 1.00000000e+00, 2.00855369e+01],\n",
       "       [2.00855369e+01, 1.09663316e+03, 8.10308393e+03],\n",
       "       [2.00855369e+01, 1.48413159e+02, 7.38905610e+00]])"
      ]
     },
     "execution_count": 549,
     "metadata": {},
     "output_type": "execute_result"
    }
   ],
   "source": [
    "np.exp(ma1)  #exponention of every element"
   ]
  },
  {
   "cell_type": "markdown",
   "id": "f3be77c2-f6a7-484f-8bd0-c5e5e9bbf502",
   "metadata": {},
   "source": [
    "### Aggregation:\n",
    ":--> performing the same operation number of things"
   ]
  },
  {
   "cell_type": "code",
   "execution_count": 551,
   "id": "929c3ed2-5b89-4509-8382-03b4f07fb9ac",
   "metadata": {},
   "outputs": [
    {
     "data": {
      "text/plain": [
       "list"
      ]
     },
     "execution_count": 551,
     "metadata": {},
     "output_type": "execute_result"
    }
   ],
   "source": [
    "list1 = [1,2,3]\n",
    "type(list1)"
   ]
  },
  {
   "cell_type": "code",
   "execution_count": 552,
   "id": "eb6ba6d9-c2c8-4c41-a483-2b6b09d0d627",
   "metadata": {},
   "outputs": [
    {
     "data": {
      "text/plain": [
       "6"
      ]
     },
     "execution_count": 552,
     "metadata": {},
     "output_type": "execute_result"
    }
   ],
   "source": [
    "sum(list1)"
   ]
  },
  {
   "cell_type": "code",
   "execution_count": 553,
   "id": "68f82bb3-2cc2-4148-bb63-f077f837f749",
   "metadata": {},
   "outputs": [
    {
     "data": {
      "text/plain": [
       "array([1, 2, 3])"
      ]
     },
     "execution_count": 553,
     "metadata": {},
     "output_type": "execute_result"
    }
   ],
   "source": [
    "a1"
   ]
  },
  {
   "cell_type": "code",
   "execution_count": 554,
   "id": "43046907-280a-4590-aad5-32e789dac72b",
   "metadata": {},
   "outputs": [
    {
     "data": {
      "text/plain": [
       "6"
      ]
     },
     "execution_count": 554,
     "metadata": {},
     "output_type": "execute_result"
    }
   ],
   "source": [
    "sum(a1)"
   ]
  },
  {
   "cell_type": "code",
   "execution_count": 555,
   "id": "6bec8e46-448a-4036-bcea-7cb1cb89c21b",
   "metadata": {},
   "outputs": [
    {
     "data": {
      "text/plain": [
       "6"
      ]
     },
     "execution_count": 555,
     "metadata": {},
     "output_type": "execute_result"
    }
   ],
   "source": [
    "np.sum(a1)"
   ]
  },
  {
   "cell_type": "code",
   "execution_count": 556,
   "id": "5bda5316-699f-4adf-afa5-128c3a17b76d",
   "metadata": {},
   "outputs": [],
   "source": [
    "#use python sum on python data type\n",
    "#use numpy sum to numpy arrays"
   ]
  },
  {
   "cell_type": "code",
   "execution_count": 557,
   "id": "ff611b87-ab9f-487b-9b80-17a499a6073c",
   "metadata": {},
   "outputs": [],
   "source": [
    "#demonstrating: \n",
    "massive_Ar = np.random.random((10000,10000))"
   ]
  },
  {
   "cell_type": "code",
   "execution_count": 558,
   "id": "ad1e4c2e-1e14-451d-86cc-12d99f9b7cbd",
   "metadata": {},
   "outputs": [
    {
     "data": {
      "text/plain": [
       "50005592.975086495"
      ]
     },
     "execution_count": 558,
     "metadata": {},
     "output_type": "execute_result"
    }
   ],
   "source": [
    "np.sum(massive_Ar)"
   ]
  },
  {
   "cell_type": "code",
   "execution_count": 559,
   "id": "0951d285-63e0-4b9a-a7b5-61415804540e",
   "metadata": {},
   "outputs": [
    {
     "name": "stdout",
     "output_type": "stream",
     "text": [
      "69.8 ms ± 8.92 ms per loop (mean ± std. dev. of 7 runs, 10 loops each)\n"
     ]
    }
   ],
   "source": [
    "%timeit np.sum(massive_Ar) "
   ]
  },
  {
   "cell_type": "code",
   "execution_count": 560,
   "id": "2bee09af-c901-47de-bd3d-9446f52b707e",
   "metadata": {},
   "outputs": [
    {
     "name": "stdout",
     "output_type": "stream",
     "text": [
      "49.9 ms ± 403 µs per loop (mean ± std. dev. of 7 runs, 10 loops each)\n"
     ]
    }
   ],
   "source": [
    "%timeit sum(massive_Ar)"
   ]
  },
  {
   "cell_type": "code",
   "execution_count": 561,
   "id": "de77868b-e338-4740-97a0-333a82d63aee",
   "metadata": {},
   "outputs": [],
   "source": [
    "mar = np.random.random(10000)"
   ]
  },
  {
   "cell_type": "code",
   "execution_count": 562,
   "id": "7a491abb-12e5-41e2-b0d0-d3df2c03da45",
   "metadata": {},
   "outputs": [
    {
     "name": "stdout",
     "output_type": "stream",
     "text": [
      "3.94 µs ± 47.6 ns per loop (mean ± std. dev. of 7 runs, 100,000 loops each)\n"
     ]
    }
   ],
   "source": [
    "%timeit np.sum(mar)"
   ]
  },
  {
   "cell_type": "code",
   "execution_count": 563,
   "id": "64fc9c4c-ea46-498b-a014-8fb034a152d9",
   "metadata": {},
   "outputs": [
    {
     "name": "stdout",
     "output_type": "stream",
     "text": [
      "552 µs ± 8.59 µs per loop (mean ± std. dev. of 7 runs, 1,000 loops each)\n"
     ]
    }
   ],
   "source": [
    "%timeit sum(mar)"
   ]
  },
  {
   "cell_type": "markdown",
   "id": "00a7711f-b90d-46d6-a7bf-24ae5cf81dbc",
   "metadata": {},
   "source": [
    "so it is important to use numpy functions for numpy arrays to make it fast"
   ]
  },
  {
   "cell_type": "code",
   "execution_count": 565,
   "id": "2292fecf-fe40-4804-b428-df381f1bfb92",
   "metadata": {},
   "outputs": [
    {
     "data": {
      "text/plain": [
       "array([[5, 0, 3],\n",
       "       [3, 7, 9],\n",
       "       [3, 5, 2]])"
      ]
     },
     "execution_count": 565,
     "metadata": {},
     "output_type": "execute_result"
    }
   ],
   "source": [
    "ma1"
   ]
  },
  {
   "cell_type": "code",
   "execution_count": 566,
   "id": "f5123193-05d2-4dd6-bc08-ca2a1272f784",
   "metadata": {},
   "outputs": [
    {
     "data": {
      "text/plain": [
       "0"
      ]
     },
     "execution_count": 566,
     "metadata": {},
     "output_type": "execute_result"
    }
   ],
   "source": [
    "np.min(ma1)"
   ]
  },
  {
   "cell_type": "code",
   "execution_count": 567,
   "id": "baf8e9c1-24fd-4925-bfc9-f270bfa2c954",
   "metadata": {},
   "outputs": [
    {
     "data": {
      "text/plain": [
       "9"
      ]
     },
     "execution_count": 567,
     "metadata": {},
     "output_type": "execute_result"
    }
   ],
   "source": [
    "np.max(ma1)"
   ]
  },
  {
   "cell_type": "code",
   "execution_count": 568,
   "id": "7a1d7e23-514a-49b2-81df-e7207fbbf3e2",
   "metadata": {},
   "outputs": [
    {
     "data": {
      "text/plain": [
       "2.5579698740491863"
      ]
     },
     "execution_count": 568,
     "metadata": {},
     "output_type": "execute_result"
    }
   ],
   "source": [
    "np.std(ma1)"
   ]
  },
  {
   "cell_type": "code",
   "execution_count": 569,
   "id": "1a17ee56-119a-4be9-be8b-4b51c1cea138",
   "metadata": {},
   "outputs": [
    {
     "data": {
      "text/plain": [
       "6.54320987654321"
      ]
     },
     "execution_count": 569,
     "metadata": {},
     "output_type": "execute_result"
    }
   ],
   "source": [
    "np.var(ma1)"
   ]
  },
  {
   "cell_type": "code",
   "execution_count": 570,
   "id": "b403d4a7-8627-4c57-ad1e-9153f96dafe4",
   "metadata": {},
   "outputs": [
    {
     "data": {
      "text/plain": [
       "2.5579698740491863"
      ]
     },
     "execution_count": 570,
     "metadata": {},
     "output_type": "execute_result"
    }
   ],
   "source": [
    "np.sqrt(np.var(ma1))"
   ]
  },
  {
   "cell_type": "markdown",
   "id": "238f5de1-ac81-4d4a-8238-08fdc8120194",
   "metadata": {},
   "source": [
    "Variance = standard daviation * 2"
   ]
  },
  {
   "cell_type": "code",
   "execution_count": 572,
   "id": "04b432ce-e378-422f-9915-e72761158e99",
   "metadata": {},
   "outputs": [],
   "source": [
    "#demo of std and var\n",
    "high_v_ar = np.array([1,2000,1225,133658])\n",
    "low_v_ar = np.array([1,3,2,5])"
   ]
  },
  {
   "cell_type": "code",
   "execution_count": 573,
   "id": "ffe17e7f-ea63-45e6-86fa-a943ce25dde0",
   "metadata": {},
   "outputs": [
    {
     "data": {
      "text/plain": [
       "(3296413556.5, 2.1875)"
      ]
     },
     "execution_count": 573,
     "metadata": {},
     "output_type": "execute_result"
    }
   ],
   "source": [
    "np.var(high_v_ar), np.var(low_v_ar)"
   ]
  },
  {
   "cell_type": "code",
   "execution_count": 574,
   "id": "1a2ea0b2-1363-4540-acd8-1bb65fbb2c51",
   "metadata": {},
   "outputs": [
    {
     "data": {
      "text/plain": [
       "(57414.401995492386, 1.479019945774904)"
      ]
     },
     "execution_count": 574,
     "metadata": {},
     "output_type": "execute_result"
    }
   ],
   "source": [
    "np.std(high_v_ar), np.std(low_v_ar)"
   ]
  },
  {
   "cell_type": "code",
   "execution_count": 575,
   "id": "5cd054fb-35d2-4015-aa40-ed9dd399e003",
   "metadata": {},
   "outputs": [],
   "source": [
    "#if you have good understanding in statics u know it"
   ]
  },
  {
   "cell_type": "code",
   "execution_count": 576,
   "id": "66b20d67-841b-411a-86ca-7db3a0c0f304",
   "metadata": {},
   "outputs": [],
   "source": [
    "import matplotlib.pyplot as plt"
   ]
  },
  {
   "cell_type": "code",
   "execution_count": 577,
   "id": "227a5809-77bb-4157-a9ec-a7bd7530ee9b",
   "metadata": {},
   "outputs": [
    {
     "data": {
      "image/png": "[encoded data removed]",
      "text/plain": [
       "<Figure size 640x480 with 1 Axes>"
      ]
     },
     "metadata": {},
     "output_type": "display_data"
    }
   ],
   "source": [
    "plt.hist(high_v_ar)\n",
    "plt.show()"
   ]
  },
  {
   "cell_type": "code",
   "execution_count": 578,
   "id": "197204ec-f29c-486c-8bb4-4cda606f057f",
   "metadata": {},
   "outputs": [
    {
     "data": {
      "image/png": "[encoded data removed]",
      "text/plain": [
       "<Figure size 640x480 with 1 Axes>"
      ]
     },
     "metadata": {},
     "output_type": "display_data"
    }
   ],
   "source": [
    "plt.hist(low_v_ar)\n",
    "plt.show()"
   ]
  },
  {
   "cell_type": "markdown",
   "id": "9e9b2a18-bcd5-4d91-8083-27a47d0ee390",
   "metadata": {},
   "source": [
    "### Reshape & Transpose"
   ]
  },
  {
   "cell_type": "code",
   "execution_count": 580,
   "id": "2ec89ca5-9ec8-4eb0-b0a4-d3252832bfb2",
   "metadata": {},
   "outputs": [
    {
     "data": {
      "text/plain": [
       "array([1, 2, 3])"
      ]
     },
     "execution_count": 580,
     "metadata": {},
     "output_type": "execute_result"
    }
   ],
   "source": [
    "a1"
   ]
  },
  {
   "cell_type": "code",
   "execution_count": 581,
   "id": "eb50b822-e9e8-47c9-909a-9f46a7509678",
   "metadata": {},
   "outputs": [
    {
     "data": {
      "text/plain": [
       "array([[1, 2, 1],\n",
       "       [1, 2, 1],\n",
       "       [3, 5, 3]])"
      ]
     },
     "execution_count": 581,
     "metadata": {},
     "output_type": "execute_result"
    }
   ],
   "source": [
    "a2"
   ]
  },
  {
   "cell_type": "code",
   "execution_count": 582,
   "id": "433d893e-7631-42b8-a60a-88763c561266",
   "metadata": {},
   "outputs": [
    {
     "data": {
      "text/plain": [
       "array([[[[1. , 2. , 3.5],\n",
       "         [4.5, 1. , 3. ],\n",
       "         [7. , 5.6, 9. ]],\n",
       "\n",
       "        [[1. , 2. , 5.4],\n",
       "         [7. , 4.8, 9. ],\n",
       "         [4. , 1.3, 9. ]],\n",
       "\n",
       "        [[4. , 1. , 2.3],\n",
       "         [7. , 1. , 4.5],\n",
       "         [7. , 1.8, 9. ]]],\n",
       "\n",
       "\n",
       "       [[[1. , 2. , 3.5],\n",
       "         [4.5, 1. , 3. ],\n",
       "         [7. , 5.6, 9. ]],\n",
       "\n",
       "        [[1. , 2. , 5.4],\n",
       "         [7. , 4.8, 9. ],\n",
       "         [4. , 1.3, 9. ]],\n",
       "\n",
       "        [[4. , 1. , 2.3],\n",
       "         [7. , 1. , 4.5],\n",
       "         [7. , 1.8, 9. ]]]])"
      ]
     },
     "execution_count": 582,
     "metadata": {},
     "output_type": "execute_result"
    }
   ],
   "source": [
    "a3"
   ]
  },
  {
   "cell_type": "code",
   "execution_count": 583,
   "id": "2acdd74d-0013-4815-85d0-ba4e2ac4cf9b",
   "metadata": {},
   "outputs": [
    {
     "data": {
      "text/plain": [
       "array([[ 1,  4,  3],\n",
       "       [ 1,  4,  3],\n",
       "       [ 3, 10,  9]])"
      ]
     },
     "execution_count": 583,
     "metadata": {},
     "output_type": "execute_result"
    }
   ],
   "source": [
    "a1*a2"
   ]
  },
  {
   "cell_type": "code",
   "execution_count": 584,
   "id": "c3047a2e-17a8-4382-840c-265efb684ea3",
   "metadata": {},
   "outputs": [
    {
     "data": {
      "text/plain": [
       "array([[[[ 1. ,  4. ,  3.5],\n",
       "         [ 4.5,  2. ,  3. ],\n",
       "         [21. , 28. , 27. ]],\n",
       "\n",
       "        [[ 1. ,  4. ,  5.4],\n",
       "         [ 7. ,  9.6,  9. ],\n",
       "         [12. ,  6.5, 27. ]],\n",
       "\n",
       "        [[ 4. ,  2. ,  2.3],\n",
       "         [ 7. ,  2. ,  4.5],\n",
       "         [21. ,  9. , 27. ]]],\n",
       "\n",
       "\n",
       "       [[[ 1. ,  4. ,  3.5],\n",
       "         [ 4.5,  2. ,  3. ],\n",
       "         [21. , 28. , 27. ]],\n",
       "\n",
       "        [[ 1. ,  4. ,  5.4],\n",
       "         [ 7. ,  9.6,  9. ],\n",
       "         [12. ,  6.5, 27. ]],\n",
       "\n",
       "        [[ 4. ,  2. ,  2.3],\n",
       "         [ 7. ,  2. ,  4.5],\n",
       "         [21. ,  9. , 27. ]]]])"
      ]
     },
     "execution_count": 584,
     "metadata": {},
     "output_type": "execute_result"
    }
   ],
   "source": [
    "a2*a3"
   ]
  },
  {
   "cell_type": "code",
   "execution_count": 585,
   "id": "fd73b9e2-a0de-43c7-997f-4ac9316f37ca",
   "metadata": {},
   "outputs": [
    {
     "data": {
      "text/plain": [
       "array([[1., 1., 1.],\n",
       "       [1., 1., 1.],\n",
       "       [1., 1., 1.]])"
      ]
     },
     "execution_count": 585,
     "metadata": {},
     "output_type": "execute_result"
    }
   ],
   "source": [
    "ma1\n",
    "ma2"
   ]
  },
  {
   "cell_type": "code",
   "execution_count": 586,
   "id": "071a957a-4af7-4642-a34e-c6955976d12c",
   "metadata": {},
   "outputs": [
    {
     "data": {
      "text/plain": [
       "array([[1., 1., 1.],\n",
       "       [1., 1., 1.],\n",
       "       [1., 1., 1.]])"
      ]
     },
     "execution_count": 586,
     "metadata": {},
     "output_type": "execute_result"
    }
   ],
   "source": [
    "ma2"
   ]
  },
  {
   "cell_type": "code",
   "execution_count": 587,
   "id": "ca97d5b7-fd21-4b9c-ad46-bf9272411e5a",
   "metadata": {},
   "outputs": [
    {
     "data": {
      "text/plain": [
       "array([[5, 0, 3],\n",
       "       [3, 7, 9]])"
      ]
     },
     "execution_count": 587,
     "metadata": {},
     "output_type": "execute_result"
    }
   ],
   "source": [
    "ma3"
   ]
  },
  {
   "cell_type": "code",
   "execution_count": 588,
   "id": "9846b6f8-bed0-47c8-ac98-feb0d0fbf436",
   "metadata": {},
   "outputs": [
    {
     "data": {
      "text/plain": [
       "array([[5., 0., 3.],\n",
       "       [3., 7., 9.],\n",
       "       [3., 5., 2.]])"
      ]
     },
     "execution_count": 588,
     "metadata": {},
     "output_type": "execute_result"
    }
   ],
   "source": [
    "ma1*ma2"
   ]
  },
  {
   "cell_type": "code",
   "execution_count": 589,
   "id": "3df1019d-81c6-4a78-ac5f-915255026c4a",
   "metadata": {},
   "outputs": [
    {
     "ename": "ValueError",
     "evalue": "operands could not be broadcast together with shapes (2,3) (3,3) ",
     "output_type": "error",
     "traceback": [
      "\u001b[1;31m---------------------------------------------------------------------------\u001b[0m",
      "\u001b[1;31mValueError\u001b[0m                                Traceback (most recent call last)",
      "Cell \u001b[1;32mIn[589], line 1\u001b[0m\n\u001b[1;32m----> 1\u001b[0m ma3\u001b[38;5;241m*\u001b[39mma1\n",
      "\u001b[1;31mValueError\u001b[0m: operands could not be broadcast together with shapes (2,3) (3,3) "
     ]
    }
   ],
   "source": [
    "ma3*ma1"
   ]
  },
  {
   "cell_type": "code",
   "execution_count": 590,
   "id": "0f0ec9ad-fd19-4feb-bad7-b4739208cce5",
   "metadata": {},
   "outputs": [
    {
     "data": {
      "text/plain": [
       "(2, 3)"
      ]
     },
     "execution_count": 590,
     "metadata": {},
     "output_type": "execute_result"
    }
   ],
   "source": [
    "ma3.shape"
   ]
  },
  {
   "cell_type": "code",
   "execution_count": 592,
   "id": "678665f1-8467-4cad-ad79-48e7be61586c",
   "metadata": {},
   "outputs": [
    {
     "data": {
      "text/plain": [
       "(2, 3, 1)"
      ]
     },
     "execution_count": 592,
     "metadata": {},
     "output_type": "execute_result"
    }
   ],
   "source": [
    "ma3 = ma3.reshape(2,3,1)\n",
    "ma3.shape"
   ]
  },
  {
   "cell_type": "code",
   "execution_count": 594,
   "id": "3aac2d0b-8a6d-4e73-a783-76be151c9ec5",
   "metadata": {},
   "outputs": [
    {
     "data": {
      "text/plain": [
       "array([[[25,  0, 15],\n",
       "        [ 0,  0,  0],\n",
       "        [ 9, 15,  6]],\n",
       "\n",
       "       [[15,  0,  9],\n",
       "        [21, 49, 63],\n",
       "        [27, 45, 18]]])"
      ]
     },
     "execution_count": 594,
     "metadata": {},
     "output_type": "execute_result"
    }
   ],
   "source": [
    "ma3*ma1"
   ]
  },
  {
   "cell_type": "code",
   "execution_count": 596,
   "id": "66a66e1a-0a5a-417a-b3f3-327bfc59a51b",
   "metadata": {},
   "outputs": [
    {
     "data": {
      "text/plain": [
       "array([[[5],\n",
       "        [0],\n",
       "        [3]],\n",
       "\n",
       "       [[3],\n",
       "        [7],\n",
       "        [9]]])"
      ]
     },
     "execution_count": 596,
     "metadata": {},
     "output_type": "execute_result"
    }
   ],
   "source": [
    "ma3\n",
    "## has reshped"
   ]
  },
  {
   "cell_type": "code",
   "execution_count": 598,
   "id": "c71745bb-5512-4db8-94c2-93fc50b5f746",
   "metadata": {},
   "outputs": [
    {
     "data": {
      "text/plain": [
       "array([[[[5]],\n",
       "\n",
       "        [[0]],\n",
       "\n",
       "        [[3]]],\n",
       "\n",
       "\n",
       "       [[[3]],\n",
       "\n",
       "        [[7]],\n",
       "\n",
       "        [[9]]]])"
      ]
     },
     "execution_count": 598,
     "metadata": {},
     "output_type": "execute_result"
    }
   ],
   "source": [
    "##again reshaping\n",
    "ma3.reshape(2,3,1,1)"
   ]
  },
  {
   "cell_type": "markdown",
   "id": "80d7e59a-430b-401d-9b16-d424ee2dbf28",
   "metadata": {},
   "source": [
    "transpose\n",
    "Switch the axix the, we know thin in marixes "
   ]
  },
  {
   "cell_type": "code",
   "execution_count": 601,
   "id": "c1f51e25-0695-4fb1-b8af-0e5bf393e72f",
   "metadata": {},
   "outputs": [
    {
     "data": {
      "text/plain": [
       "(2, 3, 1)"
      ]
     },
     "execution_count": 601,
     "metadata": {},
     "output_type": "execute_result"
    }
   ],
   "source": [
    "ma3.shape"
   ]
  },
  {
   "cell_type": "code",
   "execution_count": 603,
   "id": "e2fa81a0-df05-4da7-a674-7bfa0cbcdd77",
   "metadata": {},
   "outputs": [],
   "source": [
    "ma3 = ma3.T"
   ]
  },
  {
   "cell_type": "code",
   "execution_count": 605,
   "id": "205d2f5b-28cd-40ca-8428-4e98da721445",
   "metadata": {},
   "outputs": [
    {
     "data": {
      "text/plain": [
       "(1, 3, 2)"
      ]
     },
     "execution_count": 605,
     "metadata": {},
     "output_type": "execute_result"
    }
   ],
   "source": [
    "ma3.shape"
   ]
  },
  {
   "cell_type": "markdown",
   "id": "0687fb86-a56a-4d48-a8f0-f8a070603e56",
   "metadata": {},
   "source": [
    "## Dot product"
   ]
  },
  {
   "cell_type": "code",
   "execution_count": 608,
   "id": "37b3ad20-9577-41fb-a06f-32728f63898c",
   "metadata": {},
   "outputs": [
    {
     "data": {
      "text/plain": [
       "(array([[6, 5, 6, 9],\n",
       "        [8, 1, 5, 6],\n",
       "        [8, 8, 4, 2],\n",
       "        [3, 7, 6, 6],\n",
       "        [3, 4, 0, 5]]),\n",
       " array([[2, 5, 7, 3, 6],\n",
       "        [9, 7, 6, 5, 0],\n",
       "        [2, 4, 6, 0, 0],\n",
       "        [8, 7, 9, 6, 1]]))"
      ]
     },
     "execution_count": 608,
     "metadata": {},
     "output_type": "execute_result"
    }
   ],
   "source": [
    "ar1 = np.random.randint(10, size=(5,4))\n",
    "ar2 = np.random.randint(10, size=(4,5))\n",
    "ar1, ar2"
   ]
  },
  {
   "cell_type": "code",
   "execution_count": 610,
   "id": "e36dc1e4-d51b-4edf-86af-2083c929f48d",
   "metadata": {},
   "outputs": [
    {
     "data": {
      "text/plain": [
       "array([[12, 40, 56,  9, 18],\n",
       "       [45,  7, 48, 35,  0],\n",
       "       [12, 20, 24,  0,  0],\n",
       "       [72, 42, 18, 36,  5]])"
      ]
     },
     "execution_count": 610,
     "metadata": {},
     "output_type": "execute_result"
    }
   ],
   "source": [
    "ar2 * ar1.T"
   ]
  },
  {
   "cell_type": "code",
   "execution_count": 612,
   "id": "c5f0b865-e8ca-4939-ba15-1aa8ef765643",
   "metadata": {},
   "outputs": [
    {
     "data": {
      "text/plain": [
       "array([[141, 152, 189,  97,  45],\n",
       "       [ 83, 109, 146,  65,  54],\n",
       "       [112, 126, 146,  76,  50],\n",
       "       [129, 130, 153,  80,  24],\n",
       "       [ 82,  78,  90,  59,  23]])"
      ]
     },
     "execution_count": 612,
     "metadata": {},
     "output_type": "execute_result"
    }
   ],
   "source": [
    "np.dot(ar1, ar2)"
   ]
  },
  {
   "cell_type": "markdown",
   "id": "9e46f12c-f153-4228-89e5-a4a3951b448a",
   "metadata": {},
   "source": [
    "#### dot product can be done like shapes : (a, n). (n, b)"
   ]
  },
  {
   "cell_type": "code",
   "execution_count": 615,
   "id": "fa9919ba-38ce-42a1-bff1-665a2224df73",
   "metadata": {},
   "outputs": [],
   "source": [
    "#gonn done the same operation done in below exel, using np arrays"
   ]
  },
  {
   "cell_type": "code",
   "execution_count": 617,
   "id": "bdc45793-0ca6-41f6-ab66-a36960fa1006",
   "metadata": {},
   "outputs": [
    {
     "data": {
      "text/html": [
       "<img src=\"example1.png\" width=\"300\" height=\"300\"/>"
      ],
      "text/plain": [
       "<IPython.core.display.Image object>"
      ]
     },
     "execution_count": 617,
     "metadata": {},
     "output_type": "execute_result"
    }
   ],
   "source": [
    "# import image module \n",
    "from IPython.display import Image \n",
    "\n",
    "# get the image \n",
    "Image(url=\"example1.png\", width=300, height=300) "
   ]
  },
  {
   "cell_type": "code",
   "execution_count": 619,
   "id": "d2fe8e30-ff6d-416a-93dd-55a7682be4b9",
   "metadata": {},
   "outputs": [
    {
     "data": {
      "text/plain": [
       "array([[ 2,  7,  1],\n",
       "       [ 9,  4, 16],\n",
       "       [11, 14, 18],\n",
       "       [13, 13, 16],\n",
       "       [15, 18,  9]])"
      ]
     },
     "execution_count": 619,
     "metadata": {},
     "output_type": "execute_result"
    }
   ],
   "source": [
    "b = np.array([[2,7,1],[9,4,16],[11,14,18],[13,13,16],[15,18,9]])\n",
    "b"
   ]
  },
  {
   "cell_type": "code",
   "execution_count": 621,
   "id": "ae4d3f27-af3e-4cc2-8e4c-cb08803be420",
   "metadata": {},
   "outputs": [
    {
     "data": {
      "text/plain": [
       "array([[10],\n",
       "       [ 8],\n",
       "       [12]])"
      ]
     },
     "execution_count": 621,
     "metadata": {},
     "output_type": "execute_result"
    }
   ],
   "source": [
    "price = np.array([[10],[8],[12]])\n",
    "price"
   ]
  },
  {
   "cell_type": "code",
   "execution_count": 623,
   "id": "d8579d8a-df98-4219-ac13-c1dbdaec3c56",
   "metadata": {},
   "outputs": [
    {
     "data": {
      "text/plain": [
       "((5, 3), (3, 1))"
      ]
     },
     "execution_count": 623,
     "metadata": {},
     "output_type": "execute_result"
    }
   ],
   "source": [
    "b.shape, price.shape"
   ]
  },
  {
   "cell_type": "code",
   "execution_count": 625,
   "id": "d5bc86b8-3af0-4ffa-b221-32fa214462bf",
   "metadata": {},
   "outputs": [
    {
     "data": {
      "text/plain": [
       "array([[ 88],\n",
       "       [314],\n",
       "       [438],\n",
       "       [426],\n",
       "       [402]])"
      ]
     },
     "execution_count": 625,
     "metadata": {},
     "output_type": "execute_result"
    }
   ],
   "source": [
    "total_for_each = np.dot(b,price)\n",
    "total_for_each"
   ]
  },
  {
   "cell_type": "code",
   "execution_count": 627,
   "id": "e7f6bc15-6d8d-429c-b768-b54e58b766d0",
   "metadata": {},
   "outputs": [
    {
     "data": {
      "text/plain": [
       "1668"
      ]
     },
     "execution_count": 627,
     "metadata": {},
     "output_type": "execute_result"
    }
   ],
   "source": [
    "np.sum(total_for_each)"
   ]
  },
  {
   "cell_type": "markdown",
   "id": "3875b57f-7d85-47c0-80fa-d141f507dbd5",
   "metadata": {},
   "source": [
    "Same case using data frame"
   ]
  },
  {
   "cell_type": "code",
   "execution_count": 630,
   "id": "1ebaebcc-fbb8-49df-9b32-507260f5c718",
   "metadata": {},
   "outputs": [
    {
     "data": {
      "text/plain": [
       "array([[13, 16,  1],\n",
       "       [ 4,  4,  8],\n",
       "       [10, 19,  5],\n",
       "       [ 7, 13,  2],\n",
       "       [ 7,  8, 15]])"
      ]
     },
     "execution_count": 630,
     "metadata": {},
     "output_type": "execute_result"
    }
   ],
   "source": [
    "np.random.seed(seed =0)\n",
    "sales_details = np.random.randint(1,20, size = (5,3))\n",
    "sales_details"
   ]
  },
  {
   "cell_type": "code",
   "execution_count": 690,
   "id": "e3a90cc4-f366-4a5b-85e9-4062619f6693",
   "metadata": {},
   "outputs": [
    {
     "data": {
      "text/html": [
       "<div>\n",
       "<style scoped>\n",
       "    .dataframe tbody tr th:only-of-type {\n",
       "        vertical-align: middle;\n",
       "    }\n",
       "\n",
       "    .dataframe tbody tr th {\n",
       "        vertical-align: top;\n",
       "    }\n",
       "\n",
       "    .dataframe thead th {\n",
       "        text-align: right;\n",
       "    }\n",
       "</style>\n",
       "<table border=\"1\" class=\"dataframe\">\n",
       "  <thead>\n",
       "    <tr style=\"text-align: right;\">\n",
       "      <th></th>\n",
       "      <th>Amond butter</th>\n",
       "      <th>Peanut</th>\n",
       "      <th>Cashew butter</th>\n",
       "    </tr>\n",
       "  </thead>\n",
       "  <tbody>\n",
       "    <tr>\n",
       "      <th>Mon</th>\n",
       "      <td>13</td>\n",
       "      <td>16</td>\n",
       "      <td>1</td>\n",
       "    </tr>\n",
       "    <tr>\n",
       "      <th>Tue</th>\n",
       "      <td>4</td>\n",
       "      <td>4</td>\n",
       "      <td>8</td>\n",
       "    </tr>\n",
       "    <tr>\n",
       "      <th>Wen</th>\n",
       "      <td>10</td>\n",
       "      <td>19</td>\n",
       "      <td>5</td>\n",
       "    </tr>\n",
       "    <tr>\n",
       "      <th>Thurs</th>\n",
       "      <td>7</td>\n",
       "      <td>13</td>\n",
       "      <td>2</td>\n",
       "    </tr>\n",
       "    <tr>\n",
       "      <th>Fri</th>\n",
       "      <td>7</td>\n",
       "      <td>8</td>\n",
       "      <td>15</td>\n",
       "    </tr>\n",
       "  </tbody>\n",
       "</table>\n",
       "</div>"
      ],
      "text/plain": [
       "       Amond butter  Peanut  Cashew butter\n",
       "Mon              13      16              1\n",
       "Tue               4       4              8\n",
       "Wen              10      19              5\n",
       "Thurs             7      13              2\n",
       "Fri               7       8             15"
      ]
     },
     "execution_count": 690,
     "metadata": {},
     "output_type": "execute_result"
    }
   ],
   "source": [
    "##creating the data frame:\n",
    "sales = pd.DataFrame(sales_details, \n",
    "                    index=[\"Mon\", \"Tue\", \"Wen\", \"Thurs\", \"Fri\"],\n",
    "                    columns=[\"Amond butter\", \"Peanut\", \"Cashew butter\"])\n",
    "sales"
   ]
  },
  {
   "cell_type": "code",
   "execution_count": 692,
   "id": "5f3b42b8-828e-46d3-83e1-3671c7975da0",
   "metadata": {},
   "outputs": [
    {
     "data": {
      "text/html": [
       "<div>\n",
       "<style scoped>\n",
       "    .dataframe tbody tr th:only-of-type {\n",
       "        vertical-align: middle;\n",
       "    }\n",
       "\n",
       "    .dataframe tbody tr th {\n",
       "        vertical-align: top;\n",
       "    }\n",
       "\n",
       "    .dataframe thead th {\n",
       "        text-align: right;\n",
       "    }\n",
       "</style>\n",
       "<table border=\"1\" class=\"dataframe\">\n",
       "  <thead>\n",
       "    <tr style=\"text-align: right;\">\n",
       "      <th></th>\n",
       "      <th>Amond butter</th>\n",
       "      <th>Peanut</th>\n",
       "      <th>Cashew butter</th>\n",
       "    </tr>\n",
       "  </thead>\n",
       "  <tbody>\n",
       "    <tr>\n",
       "      <th>Price</th>\n",
       "      <td>10</td>\n",
       "      <td>8</td>\n",
       "      <td>12</td>\n",
       "    </tr>\n",
       "  </tbody>\n",
       "</table>\n",
       "</div>"
      ],
      "text/plain": [
       "       Amond butter  Peanut  Cashew butter\n",
       "Price            10       8             12"
      ]
     },
     "execution_count": 692,
     "metadata": {},
     "output_type": "execute_result"
    }
   ],
   "source": [
    "prices = pd.DataFrame(price.T, \n",
    "                     index=[\"Price\"],\n",
    "                     columns=[\"Amond butter\", \"Peanut\", \"Cashew butter\"])\n",
    "prices"
   ]
  },
  {
   "cell_type": "code",
   "execution_count": 694,
   "id": "7010c507-077e-4d44-9149-9a585609f1f3",
   "metadata": {},
   "outputs": [],
   "source": [
    "price_T = prices.T"
   ]
  },
  {
   "cell_type": "code",
   "execution_count": 696,
   "id": "7f0b19f7-5be4-46c5-9227-06a12d2fc56b",
   "metadata": {},
   "outputs": [
    {
     "data": {
      "text/html": [
       "<div>\n",
       "<style scoped>\n",
       "    .dataframe tbody tr th:only-of-type {\n",
       "        vertical-align: middle;\n",
       "    }\n",
       "\n",
       "    .dataframe tbody tr th {\n",
       "        vertical-align: top;\n",
       "    }\n",
       "\n",
       "    .dataframe thead th {\n",
       "        text-align: right;\n",
       "    }\n",
       "</style>\n",
       "<table border=\"1\" class=\"dataframe\">\n",
       "  <thead>\n",
       "    <tr style=\"text-align: right;\">\n",
       "      <th></th>\n",
       "      <th>Price</th>\n",
       "    </tr>\n",
       "  </thead>\n",
       "  <tbody>\n",
       "    <tr>\n",
       "      <th>Amond butter</th>\n",
       "      <td>10</td>\n",
       "    </tr>\n",
       "    <tr>\n",
       "      <th>Peanut</th>\n",
       "      <td>8</td>\n",
       "    </tr>\n",
       "    <tr>\n",
       "      <th>Cashew butter</th>\n",
       "      <td>12</td>\n",
       "    </tr>\n",
       "  </tbody>\n",
       "</table>\n",
       "</div>"
      ],
      "text/plain": [
       "               Price\n",
       "Amond butter      10\n",
       "Peanut             8\n",
       "Cashew butter     12"
      ]
     },
     "execution_count": 696,
     "metadata": {},
     "output_type": "execute_result"
    }
   ],
   "source": [
    "price_T"
   ]
  },
  {
   "cell_type": "code",
   "execution_count": 698,
   "id": "72a58bc2-8354-46c4-9574-2e350b10a0a6",
   "metadata": {},
   "outputs": [
    {
     "data": {
      "text/plain": [
       "((5, 3), (1, 3))"
      ]
     },
     "execution_count": 698,
     "metadata": {},
     "output_type": "execute_result"
    }
   ],
   "source": [
    "sales.shape, prices.shape"
   ]
  },
  {
   "cell_type": "code",
   "execution_count": 700,
   "id": "5a73dbbc-cfb4-42de-8663-c07d19c04818",
   "metadata": {},
   "outputs": [
    {
     "data": {
      "text/plain": [
       "((5, 3), (3, 1))"
      ]
     },
     "execution_count": 700,
     "metadata": {},
     "output_type": "execute_result"
    }
   ],
   "source": [
    "sales.shape, price_T.shape"
   ]
  },
  {
   "cell_type": "code",
   "execution_count": 702,
   "id": "53b7e890-2f6f-4a04-98c1-19a54e4de5f2",
   "metadata": {},
   "outputs": [
    {
     "data": {
      "text/html": [
       "<div>\n",
       "<style scoped>\n",
       "    .dataframe tbody tr th:only-of-type {\n",
       "        vertical-align: middle;\n",
       "    }\n",
       "\n",
       "    .dataframe tbody tr th {\n",
       "        vertical-align: top;\n",
       "    }\n",
       "\n",
       "    .dataframe thead th {\n",
       "        text-align: right;\n",
       "    }\n",
       "</style>\n",
       "<table border=\"1\" class=\"dataframe\">\n",
       "  <thead>\n",
       "    <tr style=\"text-align: right;\">\n",
       "      <th></th>\n",
       "      <th>Amond butter</th>\n",
       "      <th>Peanut</th>\n",
       "      <th>Cashew butter</th>\n",
       "    </tr>\n",
       "  </thead>\n",
       "  <tbody>\n",
       "    <tr>\n",
       "      <th>Mon</th>\n",
       "      <td>13</td>\n",
       "      <td>16</td>\n",
       "      <td>1</td>\n",
       "    </tr>\n",
       "    <tr>\n",
       "      <th>Tue</th>\n",
       "      <td>4</td>\n",
       "      <td>4</td>\n",
       "      <td>8</td>\n",
       "    </tr>\n",
       "    <tr>\n",
       "      <th>Wen</th>\n",
       "      <td>10</td>\n",
       "      <td>19</td>\n",
       "      <td>5</td>\n",
       "    </tr>\n",
       "    <tr>\n",
       "      <th>Thurs</th>\n",
       "      <td>7</td>\n",
       "      <td>13</td>\n",
       "      <td>2</td>\n",
       "    </tr>\n",
       "    <tr>\n",
       "      <th>Fri</th>\n",
       "      <td>7</td>\n",
       "      <td>8</td>\n",
       "      <td>15</td>\n",
       "    </tr>\n",
       "  </tbody>\n",
       "</table>\n",
       "</div>"
      ],
      "text/plain": [
       "       Amond butter  Peanut  Cashew butter\n",
       "Mon              13      16              1\n",
       "Tue               4       4              8\n",
       "Wen              10      19              5\n",
       "Thurs             7      13              2\n",
       "Fri               7       8             15"
      ]
     },
     "execution_count": 702,
     "metadata": {},
     "output_type": "execute_result"
    }
   ],
   "source": [
    "sales"
   ]
  },
  {
   "cell_type": "code",
   "execution_count": 704,
   "id": "d85ac085-7325-4aa9-a736-70d0bacd8878",
   "metadata": {},
   "outputs": [
    {
     "data": {
      "text/html": [
       "<div>\n",
       "<style scoped>\n",
       "    .dataframe tbody tr th:only-of-type {\n",
       "        vertical-align: middle;\n",
       "    }\n",
       "\n",
       "    .dataframe tbody tr th {\n",
       "        vertical-align: top;\n",
       "    }\n",
       "\n",
       "    .dataframe thead th {\n",
       "        text-align: right;\n",
       "    }\n",
       "</style>\n",
       "<table border=\"1\" class=\"dataframe\">\n",
       "  <thead>\n",
       "    <tr style=\"text-align: right;\">\n",
       "      <th></th>\n",
       "      <th>Amond butter</th>\n",
       "      <th>Peanut</th>\n",
       "      <th>Cashew butter</th>\n",
       "    </tr>\n",
       "  </thead>\n",
       "  <tbody>\n",
       "    <tr>\n",
       "      <th>Price</th>\n",
       "      <td>10</td>\n",
       "      <td>8</td>\n",
       "      <td>12</td>\n",
       "    </tr>\n",
       "  </tbody>\n",
       "</table>\n",
       "</div>"
      ],
      "text/plain": [
       "       Amond butter  Peanut  Cashew butter\n",
       "Price            10       8             12"
      ]
     },
     "execution_count": 704,
     "metadata": {},
     "output_type": "execute_result"
    }
   ],
   "source": [
    "prices"
   ]
  },
  {
   "cell_type": "code",
   "execution_count": 706,
   "id": "63468ab3-ae47-4523-ab8d-9546cb5b405c",
   "metadata": {},
   "outputs": [
    {
     "data": {
      "text/html": [
       "<div>\n",
       "<style scoped>\n",
       "    .dataframe tbody tr th:only-of-type {\n",
       "        vertical-align: middle;\n",
       "    }\n",
       "\n",
       "    .dataframe tbody tr th {\n",
       "        vertical-align: top;\n",
       "    }\n",
       "\n",
       "    .dataframe thead th {\n",
       "        text-align: right;\n",
       "    }\n",
       "</style>\n",
       "<table border=\"1\" class=\"dataframe\">\n",
       "  <thead>\n",
       "    <tr style=\"text-align: right;\">\n",
       "      <th></th>\n",
       "      <th>Price</th>\n",
       "    </tr>\n",
       "  </thead>\n",
       "  <tbody>\n",
       "    <tr>\n",
       "      <th>Amond butter</th>\n",
       "      <td>10</td>\n",
       "    </tr>\n",
       "    <tr>\n",
       "      <th>Peanut</th>\n",
       "      <td>8</td>\n",
       "    </tr>\n",
       "    <tr>\n",
       "      <th>Cashew butter</th>\n",
       "      <td>12</td>\n",
       "    </tr>\n",
       "  </tbody>\n",
       "</table>\n",
       "</div>"
      ],
      "text/plain": [
       "               Price\n",
       "Amond butter      10\n",
       "Peanut             8\n",
       "Cashew butter     12"
      ]
     },
     "execution_count": 706,
     "metadata": {},
     "output_type": "execute_result"
    }
   ],
   "source": [
    "price_T"
   ]
  },
  {
   "cell_type": "code",
   "execution_count": 708,
   "id": "bac2b94b-d403-4112-89d7-ec4047a8416c",
   "metadata": {},
   "outputs": [
    {
     "data": {
      "text/plain": [
       "(3, 5)"
      ]
     },
     "execution_count": 708,
     "metadata": {},
     "output_type": "execute_result"
    }
   ],
   "source": [
    "sales.T.shape"
   ]
  },
  {
   "cell_type": "code",
   "execution_count": 718,
   "id": "22bbeb28-3bb8-4646-be48-5951a02bec8a",
   "metadata": {},
   "outputs": [],
   "source": [
    "total_week = sales.dot(price_T)"
   ]
  },
  {
   "cell_type": "code",
   "execution_count": 720,
   "id": "228a7111-3ca7-43ef-989f-92359cc61afa",
   "metadata": {},
   "outputs": [
    {
     "data": {
      "text/html": [
       "<div>\n",
       "<style scoped>\n",
       "    .dataframe tbody tr th:only-of-type {\n",
       "        vertical-align: middle;\n",
       "    }\n",
       "\n",
       "    .dataframe tbody tr th {\n",
       "        vertical-align: top;\n",
       "    }\n",
       "\n",
       "    .dataframe thead th {\n",
       "        text-align: right;\n",
       "    }\n",
       "</style>\n",
       "<table border=\"1\" class=\"dataframe\">\n",
       "  <thead>\n",
       "    <tr style=\"text-align: right;\">\n",
       "      <th></th>\n",
       "      <th>Price</th>\n",
       "    </tr>\n",
       "  </thead>\n",
       "  <tbody>\n",
       "    <tr>\n",
       "      <th>Mon</th>\n",
       "      <td>270</td>\n",
       "    </tr>\n",
       "    <tr>\n",
       "      <th>Tue</th>\n",
       "      <td>168</td>\n",
       "    </tr>\n",
       "    <tr>\n",
       "      <th>Wen</th>\n",
       "      <td>312</td>\n",
       "    </tr>\n",
       "    <tr>\n",
       "      <th>Thurs</th>\n",
       "      <td>198</td>\n",
       "    </tr>\n",
       "    <tr>\n",
       "      <th>Fri</th>\n",
       "      <td>314</td>\n",
       "    </tr>\n",
       "  </tbody>\n",
       "</table>\n",
       "</div>"
      ],
      "text/plain": [
       "       Price\n",
       "Mon      270\n",
       "Tue      168\n",
       "Wen      312\n",
       "Thurs    198\n",
       "Fri      314"
      ]
     },
     "execution_count": 720,
     "metadata": {},
     "output_type": "execute_result"
    }
   ],
   "source": [
    "total_week"
   ]
  },
  {
   "cell_type": "code",
   "execution_count": 722,
   "id": "e41d13cb-fb03-44fc-befd-a373de365a72",
   "metadata": {},
   "outputs": [],
   "source": [
    "sales[\"Total $\"] = total_week"
   ]
  },
  {
   "cell_type": "code",
   "execution_count": 724,
   "id": "b22f89e9-2234-44f2-818b-a62a57496963",
   "metadata": {},
   "outputs": [
    {
     "data": {
      "text/html": [
       "<div>\n",
       "<style scoped>\n",
       "    .dataframe tbody tr th:only-of-type {\n",
       "        vertical-align: middle;\n",
       "    }\n",
       "\n",
       "    .dataframe tbody tr th {\n",
       "        vertical-align: top;\n",
       "    }\n",
       "\n",
       "    .dataframe thead th {\n",
       "        text-align: right;\n",
       "    }\n",
       "</style>\n",
       "<table border=\"1\" class=\"dataframe\">\n",
       "  <thead>\n",
       "    <tr style=\"text-align: right;\">\n",
       "      <th></th>\n",
       "      <th>Amond butter</th>\n",
       "      <th>Peanut</th>\n",
       "      <th>Cashew butter</th>\n",
       "      <th>Total $</th>\n",
       "    </tr>\n",
       "  </thead>\n",
       "  <tbody>\n",
       "    <tr>\n",
       "      <th>Mon</th>\n",
       "      <td>13</td>\n",
       "      <td>16</td>\n",
       "      <td>1</td>\n",
       "      <td>270</td>\n",
       "    </tr>\n",
       "    <tr>\n",
       "      <th>Tue</th>\n",
       "      <td>4</td>\n",
       "      <td>4</td>\n",
       "      <td>8</td>\n",
       "      <td>168</td>\n",
       "    </tr>\n",
       "    <tr>\n",
       "      <th>Wen</th>\n",
       "      <td>10</td>\n",
       "      <td>19</td>\n",
       "      <td>5</td>\n",
       "      <td>312</td>\n",
       "    </tr>\n",
       "    <tr>\n",
       "      <th>Thurs</th>\n",
       "      <td>7</td>\n",
       "      <td>13</td>\n",
       "      <td>2</td>\n",
       "      <td>198</td>\n",
       "    </tr>\n",
       "    <tr>\n",
       "      <th>Fri</th>\n",
       "      <td>7</td>\n",
       "      <td>8</td>\n",
       "      <td>15</td>\n",
       "      <td>314</td>\n",
       "    </tr>\n",
       "  </tbody>\n",
       "</table>\n",
       "</div>"
      ],
      "text/plain": [
       "       Amond butter  Peanut  Cashew butter  Total $\n",
       "Mon              13      16              1      270\n",
       "Tue               4       4              8      168\n",
       "Wen              10      19              5      312\n",
       "Thurs             7      13              2      198\n",
       "Fri               7       8             15      314"
      ]
     },
     "execution_count": 724,
     "metadata": {},
     "output_type": "execute_result"
    }
   ],
   "source": [
    "sales"
   ]
  },
  {
   "cell_type": "code",
   "execution_count": 734,
   "id": "997b00ff-b7a8-4622-85e9-b76db603be22",
   "metadata": {},
   "outputs": [
    {
     "data": {
      "text/html": [
       "<div>\n",
       "<style scoped>\n",
       "    .dataframe tbody tr th:only-of-type {\n",
       "        vertical-align: middle;\n",
       "    }\n",
       "\n",
       "    .dataframe tbody tr th {\n",
       "        vertical-align: top;\n",
       "    }\n",
       "\n",
       "    .dataframe thead th {\n",
       "        text-align: right;\n",
       "    }\n",
       "</style>\n",
       "<table border=\"1\" class=\"dataframe\">\n",
       "  <thead>\n",
       "    <tr style=\"text-align: right;\">\n",
       "      <th></th>\n",
       "      <th>Amond butter</th>\n",
       "      <th>Peanut</th>\n",
       "      <th>Cashew butter</th>\n",
       "      <th>Total $</th>\n",
       "    </tr>\n",
       "  </thead>\n",
       "  <tbody>\n",
       "    <tr>\n",
       "      <th>Price</th>\n",
       "      <td>10</td>\n",
       "      <td>8</td>\n",
       "      <td>12</td>\n",
       "      <td>500</td>\n",
       "    </tr>\n",
       "  </tbody>\n",
       "</table>\n",
       "</div>"
      ],
      "text/plain": [
       "       Amond butter  Peanut  Cashew butter  Total $\n",
       "Price            10       8             12      500"
      ]
     },
     "execution_count": 734,
     "metadata": {},
     "output_type": "execute_result"
    }
   ],
   "source": [
    "prices[\"Total $\"] = 500\n",
    "prices"
   ]
  },
  {
   "cell_type": "code",
   "execution_count": null,
   "id": "eef9370a-587c-414d-82b6-25c0abb6f9e8",
   "metadata": {},
   "outputs": [],
   "source": []
  }
 ],
 "metadata": {
  "kernelspec": {
   "display_name": "Python 3 (ipykernel)",
   "language": "python",
   "name": "python3"
  },
  "language_info": {
   "codemirror_mode": {
    "name": "ipython",
    "version": 3
   },
   "file_extension": ".py",
   "mimetype": "text/x-python",
   "name": "python",
   "nbconvert_exporter": "python",
   "pygments_lexer": "ipython3",
   "version": "3.11.7"
  }
 },
 "nbformat": 4,
 "nbformat_minor": 5
}
