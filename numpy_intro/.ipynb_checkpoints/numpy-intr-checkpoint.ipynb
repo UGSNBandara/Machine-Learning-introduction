{
 "cells": [
  {
   "cell_type": "code",
   "execution_count": 1,
   "id": "c75d1802-d24e-439c-a7f5-c82a879b9094",
   "metadata": {},
   "outputs": [],
   "source": [
    "import numpy as np"
   ]
  },
  {
   "cell_type": "markdown",
   "id": "f947e911-a5ad-457a-bd37-27f678b3617d",
   "metadata": {},
   "source": [
    "## Datatype & Attributes"
   ]
  },
  {
   "cell_type": "code",
   "execution_count": 4,
   "id": "ae29d170-5b29-4a8b-af65-2c10b75b69a2",
   "metadata": {},
   "outputs": [],
   "source": [
    "#main type --> ndarray | n dimension's array "
   ]
  },
  {
   "cell_type": "code",
   "execution_count": 6,
   "id": "e196fdc4-a3e0-4ba8-bcea-b81b24e4e3c1",
   "metadata": {},
   "outputs": [],
   "source": [
    "a1 = np.array([1,2,3])"
   ]
  },
  {
   "cell_type": "code",
   "execution_count": 8,
   "id": "26b37a3c-0c27-4d68-aacc-1b4688b3ee1f",
   "metadata": {},
   "outputs": [
    {
     "data": {
      "text/plain": [
       "array([1, 2, 3])"
      ]
     },
     "execution_count": 8,
     "metadata": {},
     "output_type": "execute_result"
    }
   ],
   "source": [
    "a1"
   ]
  },
  {
   "cell_type": "code",
   "execution_count": 10,
   "id": "ac06fefa-9fe2-4ac6-9ccf-942f1193d711",
   "metadata": {},
   "outputs": [
    {
     "data": {
      "text/plain": [
       "numpy.ndarray"
      ]
     },
     "execution_count": 10,
     "metadata": {},
     "output_type": "execute_result"
    }
   ],
   "source": [
    "type(a1)"
   ]
  },
  {
   "cell_type": "code",
   "execution_count": 14,
   "id": "fa7d359c-9b9d-4651-875d-a5a2c5b0e032",
   "metadata": {},
   "outputs": [
    {
     "data": {
      "text/plain": [
       "array([[5, 8, 4],\n",
       "       [4, 7, 8]])"
      ]
     },
     "execution_count": 14,
     "metadata": {},
     "output_type": "execute_result"
    }
   ],
   "source": [
    "a2 = np.array([[5,8,4],[4,7,8]])\n",
    "a2"
   ]
  },
  {
   "cell_type": "code",
   "execution_count": 43,
   "id": "c1c097ed-d49a-42ad-8c8f-1cd01206a057",
   "metadata": {},
   "outputs": [],
   "source": [
    "a3 = np.array([[[[1,2,3.5],[4.5,1,3],[7,5.6,9]],[[1,2,5.4],[7,4.8,9],[4,1.3,9]],[[4,1,2.3],[7,1,4.5],[7,1.8,9]]],[[[1,2,3.5],[4.5,1,3],[7,5.6,9]],[[1,2,5.4],[7,4.8,9],[4,1.3,9]],[[4,1,2.3],[7,1,4.5],[7,1.8,9]]]])"
   ]
  },
  {
   "cell_type": "code",
   "execution_count": 45,
   "id": "c4bf0eb5-5873-4cc1-8646-b332d39969c7",
   "metadata": {},
   "outputs": [
    {
     "data": {
      "text/plain": [
       "array([[[[1. , 2. , 3.5],\n",
       "         [4.5, 1. , 3. ],\n",
       "         [7. , 5.6, 9. ]],\n",
       "\n",
       "        [[1. , 2. , 5.4],\n",
       "         [7. , 4.8, 9. ],\n",
       "         [4. , 1.3, 9. ]],\n",
       "\n",
       "        [[4. , 1. , 2.3],\n",
       "         [7. , 1. , 4.5],\n",
       "         [7. , 1.8, 9. ]]],\n",
       "\n",
       "\n",
       "       [[[1. , 2. , 3.5],\n",
       "         [4.5, 1. , 3. ],\n",
       "         [7. , 5.6, 9. ]],\n",
       "\n",
       "        [[1. , 2. , 5.4],\n",
       "         [7. , 4.8, 9. ],\n",
       "         [4. , 1.3, 9. ]],\n",
       "\n",
       "        [[4. , 1. , 2.3],\n",
       "         [7. , 1. , 4.5],\n",
       "         [7. , 1.8, 9. ]]]])"
      ]
     },
     "execution_count": 45,
     "metadata": {},
     "output_type": "execute_result"
    }
   ],
   "source": [
    "a3"
   ]
  },
  {
   "cell_type": "code",
   "execution_count": 47,
   "id": "0e97d092-b14f-4e88-a4a7-490da94dd1c2",
   "metadata": {},
   "outputs": [
    {
     "data": {
      "text/plain": [
       "(3,)"
      ]
     },
     "execution_count": 47,
     "metadata": {},
     "output_type": "execute_result"
    }
   ],
   "source": [
    "a1.shape"
   ]
  },
  {
   "cell_type": "code",
   "execution_count": 49,
   "id": "12560a01-f86e-4441-a673-751bba54b2b2",
   "metadata": {},
   "outputs": [
    {
     "data": {
      "text/plain": [
       "(2, 3)"
      ]
     },
     "execution_count": 49,
     "metadata": {},
     "output_type": "execute_result"
    }
   ],
   "source": [
    "a2.shape"
   ]
  },
  {
   "cell_type": "code",
   "execution_count": 51,
   "id": "f6f84b08-9d3c-4cb4-b926-a65b1449a8e6",
   "metadata": {},
   "outputs": [
    {
     "data": {
      "text/plain": [
       "(2, 3, 3, 3)"
      ]
     },
     "execution_count": 51,
     "metadata": {},
     "output_type": "execute_result"
    }
   ],
   "source": [
    "a3.shape"
   ]
  },
  {
   "cell_type": "code",
   "execution_count": 61,
   "id": "0906bb6d-eaf7-4fc8-a8e5-a941cc7160a9",
   "metadata": {},
   "outputs": [],
   "source": [
    "#understand the way write the shape. it is like coming out from the inside. if like [1,2,3] --> (3, )\n",
    "#if [2,3,9],[5,5,8] it's shape --> (2,3)"
   ]
  },
  {
   "cell_type": "code",
   "execution_count": 63,
   "id": "8694c405-94b2-484c-ae71-5abe82d95996",
   "metadata": {},
   "outputs": [
    {
     "data": {
      "text/plain": [
       "dtype('int32')"
      ]
     },
     "execution_count": 63,
     "metadata": {},
     "output_type": "execute_result"
    }
   ],
   "source": [
    "a1.dtype"
   ]
  },
  {
   "cell_type": "code",
   "execution_count": 65,
   "id": "881bb771-b7b2-4dfc-9163-9b6405a9e0b5",
   "metadata": {},
   "outputs": [
    {
     "data": {
      "text/plain": [
       "(dtype('int32'), dtype('float64'))"
      ]
     },
     "execution_count": 65,
     "metadata": {},
     "output_type": "execute_result"
    }
   ],
   "source": [
    "a2.dtype, a3.dtype"
   ]
  },
  {
   "cell_type": "code",
   "execution_count": 67,
   "id": "9ad11c4b-dc3b-4bc9-ab60-4298a4fc6da9",
   "metadata": {},
   "outputs": [
    {
     "data": {
      "text/plain": [
       "(3, 6, 54)"
      ]
     },
     "execution_count": 67,
     "metadata": {},
     "output_type": "execute_result"
    }
   ],
   "source": [
    "a1.size, a2.size, a3.size"
   ]
  },
  {
   "cell_type": "code",
   "execution_count": 69,
   "id": "9000859c-dc8c-4e94-94d1-091b23745c7d",
   "metadata": {},
   "outputs": [
    {
     "data": {
      "text/plain": [
       "(numpy.ndarray, numpy.ndarray, numpy.ndarray)"
      ]
     },
     "execution_count": 69,
     "metadata": {},
     "output_type": "execute_result"
    }
   ],
   "source": [
    "type(a1), type(a2), type(a3)"
   ]
  },
  {
   "cell_type": "code",
   "execution_count": 71,
   "id": "46844099-11b4-43fb-a8e4-e4abcca4196d",
   "metadata": {},
   "outputs": [],
   "source": [
    "#lets create a data frame\n",
    "import pandas as pd"
   ]
  },
  {
   "cell_type": "code",
   "execution_count": 75,
   "id": "151dd2a8-c3d7-46f8-b831-88379d04ec78",
   "metadata": {},
   "outputs": [],
   "source": [
    "df = pd.DataFrame(a2)"
   ]
  },
  {
   "cell_type": "code",
   "execution_count": 77,
   "id": "8cd1b160-c7c6-4ebc-b506-8b5bddebc1ed",
   "metadata": {},
   "outputs": [
    {
     "data": {
      "text/html": [
       "<div>\n",
       "<style scoped>\n",
       "    .dataframe tbody tr th:only-of-type {\n",
       "        vertical-align: middle;\n",
       "    }\n",
       "\n",
       "    .dataframe tbody tr th {\n",
       "        vertical-align: top;\n",
       "    }\n",
       "\n",
       "    .dataframe thead th {\n",
       "        text-align: right;\n",
       "    }\n",
       "</style>\n",
       "<table border=\"1\" class=\"dataframe\">\n",
       "  <thead>\n",
       "    <tr style=\"text-align: right;\">\n",
       "      <th></th>\n",
       "      <th>0</th>\n",
       "      <th>1</th>\n",
       "      <th>2</th>\n",
       "    </tr>\n",
       "  </thead>\n",
       "  <tbody>\n",
       "    <tr>\n",
       "      <th>0</th>\n",
       "      <td>5</td>\n",
       "      <td>8</td>\n",
       "      <td>4</td>\n",
       "    </tr>\n",
       "    <tr>\n",
       "      <th>1</th>\n",
       "      <td>4</td>\n",
       "      <td>7</td>\n",
       "      <td>8</td>\n",
       "    </tr>\n",
       "  </tbody>\n",
       "</table>\n",
       "</div>"
      ],
      "text/plain": [
       "   0  1  2\n",
       "0  5  8  4\n",
       "1  4  7  8"
      ]
     },
     "execution_count": 77,
     "metadata": {},
     "output_type": "execute_result"
    }
   ],
   "source": [
    "df"
   ]
  },
  {
   "cell_type": "code",
   "execution_count": 79,
   "id": "49b7047c-1769-4cbc-8ace-cb3449f7f6cb",
   "metadata": {},
   "outputs": [],
   "source": [
    "# we can not convert here, it is gives an error || only 2d arrays can converted into data frame"
   ]
  },
  {
   "cell_type": "markdown",
   "id": "31e55038-2e56-40b8-abd0-dc22aea6f44c",
   "metadata": {},
   "source": [
    "## Creating arrays"
   ]
  },
  {
   "cell_type": "code",
   "execution_count": 82,
   "id": "b17e9315-d7c8-464e-8b11-008c44b1b190",
   "metadata": {},
   "outputs": [
    {
     "data": {
      "text/plain": [
       "array([2, 1, 6])"
      ]
     },
     "execution_count": 82,
     "metadata": {},
     "output_type": "execute_result"
    }
   ],
   "source": [
    "sample_array = np.array([2,1,6])\n",
    "sample_array"
   ]
  },
  {
   "cell_type": "code",
   "execution_count": 84,
   "id": "72644ec9-ad92-4b6a-9579-55e91b31c0e7",
   "metadata": {},
   "outputs": [
    {
     "data": {
      "text/plain": [
       "dtype('int32')"
      ]
     },
     "execution_count": 84,
     "metadata": {},
     "output_type": "execute_result"
    }
   ],
   "source": [
    "sample_array.dtype"
   ]
  },
  {
   "cell_type": "code",
   "execution_count": 88,
   "id": "f061b633-084d-462c-b516-82282c251e55",
   "metadata": {},
   "outputs": [],
   "source": [
    "ones = np.ones((3,3,3,3), dtype=int) "
   ]
  },
  {
   "cell_type": "code",
   "execution_count": 90,
   "id": "4fe9388c-5956-484a-828a-01a87a74bda2",
   "metadata": {},
   "outputs": [
    {
     "data": {
      "text/plain": [
       "array([[[[1, 1, 1],\n",
       "         [1, 1, 1],\n",
       "         [1, 1, 1]],\n",
       "\n",
       "        [[1, 1, 1],\n",
       "         [1, 1, 1],\n",
       "         [1, 1, 1]],\n",
       "\n",
       "        [[1, 1, 1],\n",
       "         [1, 1, 1],\n",
       "         [1, 1, 1]]],\n",
       "\n",
       "\n",
       "       [[[1, 1, 1],\n",
       "         [1, 1, 1],\n",
       "         [1, 1, 1]],\n",
       "\n",
       "        [[1, 1, 1],\n",
       "         [1, 1, 1],\n",
       "         [1, 1, 1]],\n",
       "\n",
       "        [[1, 1, 1],\n",
       "         [1, 1, 1],\n",
       "         [1, 1, 1]]],\n",
       "\n",
       "\n",
       "       [[[1, 1, 1],\n",
       "         [1, 1, 1],\n",
       "         [1, 1, 1]],\n",
       "\n",
       "        [[1, 1, 1],\n",
       "         [1, 1, 1],\n",
       "         [1, 1, 1]],\n",
       "\n",
       "        [[1, 1, 1],\n",
       "         [1, 1, 1],\n",
       "         [1, 1, 1]]]])"
      ]
     },
     "execution_count": 90,
     "metadata": {},
     "output_type": "execute_result"
    }
   ],
   "source": [
    "ones"
   ]
  },
  {
   "cell_type": "code",
   "execution_count": 92,
   "id": "c7544dc5-7f69-4632-a014-d21590bd0a63",
   "metadata": {},
   "outputs": [
    {
     "data": {
      "text/plain": [
       "numpy.ndarray"
      ]
     },
     "execution_count": 92,
     "metadata": {},
     "output_type": "execute_result"
    }
   ],
   "source": [
    "type(ones)"
   ]
  },
  {
   "cell_type": "code",
   "execution_count": 94,
   "id": "5096751b-c4a2-4ce1-8339-5b5ba01655fe",
   "metadata": {},
   "outputs": [],
   "source": [
    "zeros = np.zeros((2,2), dtype= int)"
   ]
  },
  {
   "cell_type": "code",
   "execution_count": 96,
   "id": "c28aa8ff-613c-4f97-bf0b-25a0717e2453",
   "metadata": {},
   "outputs": [
    {
     "data": {
      "text/plain": [
       "array([[0, 0],\n",
       "       [0, 0]])"
      ]
     },
     "execution_count": 96,
     "metadata": {},
     "output_type": "execute_result"
    }
   ],
   "source": [
    "zeros"
   ]
  },
  {
   "cell_type": "code",
   "execution_count": 100,
   "id": "92739970-6427-4d80-bb66-e02191b96346",
   "metadata": {},
   "outputs": [
    {
     "data": {
      "text/plain": [
       "dtype('int32')"
      ]
     },
     "execution_count": 100,
     "metadata": {},
     "output_type": "execute_result"
    }
   ],
   "source": [
    "zeros.dtype"
   ]
  },
  {
   "cell_type": "code",
   "execution_count": 106,
   "id": "67415024-ad1a-4841-80b7-0648a3a72ae1",
   "metadata": {},
   "outputs": [
    {
     "data": {
      "text/plain": [
       "array([0, 1, 2, 3, 4])"
      ]
     },
     "execution_count": 106,
     "metadata": {},
     "output_type": "execute_result"
    }
   ],
   "source": [
    "range_array = np.arange(5)\n",
    "range_array"
   ]
  },
  {
   "cell_type": "code",
   "execution_count": 108,
   "id": "317b318e-b190-412c-95ee-21805d52832a",
   "metadata": {},
   "outputs": [
    {
     "data": {
      "text/plain": [
       "array([5, 6, 7, 8])"
      ]
     },
     "execution_count": 108,
     "metadata": {},
     "output_type": "execute_result"
    }
   ],
   "source": [
    "range_array1 = np.arange(5,9)\n",
    "range_array1"
   ]
  },
  {
   "cell_type": "code",
   "execution_count": 110,
   "id": "28429d34-91c4-4e03-ac1f-de77b5676cf8",
   "metadata": {},
   "outputs": [
    {
     "data": {
      "text/plain": [
       "array([1, 4, 7])"
      ]
     },
     "execution_count": 110,
     "metadata": {},
     "output_type": "execute_result"
    }
   ],
   "source": [
    "range_array2 = np.arange(1,10,3)\n",
    "range_array2"
   ]
  },
  {
   "cell_type": "code",
   "execution_count": 126,
   "id": "13db452d-00db-41ad-afed-dcedcab8cc3b",
   "metadata": {},
   "outputs": [],
   "source": [
    "#random arrray | low - high - size - type"
   ]
  },
  {
   "cell_type": "code",
   "execution_count": 128,
   "id": "cd6c7398-d148-48fa-8121-e2c2cefd4809",
   "metadata": {},
   "outputs": [
    {
     "data": {
      "text/plain": [
       "5"
      ]
     },
     "execution_count": 128,
     "metadata": {},
     "output_type": "execute_result"
    }
   ],
   "source": [
    "random_array = np.random.randint(8)\n",
    "random_array"
   ]
  },
  {
   "cell_type": "code",
   "execution_count": 130,
   "id": "71880260-f79b-40ae-9e2b-4ad28382e39f",
   "metadata": {},
   "outputs": [
    {
     "data": {
      "text/plain": [
       "9"
      ]
     },
     "execution_count": 130,
     "metadata": {},
     "output_type": "execute_result"
    }
   ],
   "source": [
    "ra2 = np.random.randint(5,10)\n",
    "ra2"
   ]
  },
  {
   "cell_type": "raw",
   "id": "5e918df9-f031-4389-bd5b-3ddb65304bdf",
   "metadata": {},
   "source": [
    "ra3 = np.random.randint(1,8,5)\n",
    "ra3"
   ]
  },
  {
   "cell_type": "code",
   "execution_count": 132,
   "id": "55e75c15-4747-4023-98b7-3c74ef58d1b3",
   "metadata": {},
   "outputs": [
    {
     "data": {
      "text/plain": [
       "array([4, 2, 1, 1, 1, 4, 3, 1])"
      ]
     },
     "execution_count": 132,
     "metadata": {},
     "output_type": "execute_result"
    }
   ],
   "source": [
    "ra4 = np.random.randint(1,5,8,dtype=int)\n",
    "ra4"
   ]
  },
  {
   "cell_type": "code",
   "execution_count": 134,
   "id": "22e689c9-71fb-439c-9519-c57ee9bd0c10",
   "metadata": {},
   "outputs": [
    {
     "data": {
      "text/plain": [
       "array([[[ 3, 12,  2, 14,  7],\n",
       "        [ 5, 11,  9, 11,  7],\n",
       "        [ 3,  8,  6,  9, 13]],\n",
       "\n",
       "       [[ 3, 12,  8,  9,  4],\n",
       "        [ 9, 13,  8, 14, 13],\n",
       "        [10,  9, 12,  1, 14]],\n",
       "\n",
       "       [[14,  5,  5,  7,  2],\n",
       "        [ 3,  5,  3, 11,  1],\n",
       "        [12,  6, 11, 11, 11]]])"
      ]
     },
     "execution_count": 134,
     "metadata": {},
     "output_type": "execute_result"
    }
   ],
   "source": [
    "ra5 = np.random.randint(0,15,size=(3,3,5))\n",
    "ra5"
   ]
  },
  {
   "cell_type": "code",
   "execution_count": 136,
   "id": "03093c3b-34f6-46ca-9e36-c7d638846a8d",
   "metadata": {},
   "outputs": [],
   "source": [
    "## here we can give the size as the shape "
   ]
  },
  {
   "cell_type": "code",
   "execution_count": 142,
   "id": "043eba7c-79e7-435c-aff9-fb1276cf8213",
   "metadata": {},
   "outputs": [
    {
     "data": {
      "text/plain": [
       "array([[0.34028382, 0.69713608],\n",
       "       [0.02298905, 0.45758436],\n",
       "       [0.13450032, 0.14908774]])"
      ]
     },
     "execution_count": 142,
     "metadata": {},
     "output_type": "execute_result"
    }
   ],
   "source": [
    "#here we gives only the shape\n",
    "#in python random() generate random floats between 0 - 1\n",
    "ra6 = np.random.random((3,2))\n",
    "ra6"
   ]
  },
  {
   "cell_type": "code",
   "execution_count": 148,
   "id": "87ede548-716c-4069-9ecd-ff41f20e6945",
   "metadata": {},
   "outputs": [
    {
     "data": {
      "text/plain": [
       "array([[0.35484734, 0.38187125],\n",
       "       [0.36042919, 0.70602272],\n",
       "       [0.37093123, 0.50068691]])"
      ]
     },
     "execution_count": 148,
     "metadata": {},
     "output_type": "execute_result"
    }
   ],
   "source": [
    "#this can be achive using np.random.rand() also\n",
    "ar7 = np.random.rand(3,2)\n",
    "ar7"
   ]
  },
  {
   "cell_type": "code",
   "execution_count": 150,
   "id": "92643b25-3760-4146-ad3e-c210fc6c1264",
   "metadata": {},
   "outputs": [],
   "source": [
    "## similer result we get"
   ]
  },
  {
   "cell_type": "markdown",
   "id": "b19aaeb8-1b2b-4184-a011-e270525d7854",
   "metadata": {},
   "source": [
    "\n",
    "Random seeds -- pseudo-random number\n"
   ]
  },
  {
   "cell_type": "markdown",
   "id": "0c495d6e-f979-4995-b67f-2e152d195ebe",
   "metadata": {},
   "source": [
    "up here random function that we use genarate different random number whenever it run\n",
    "again and again"
   ]
  },
  {
   "cell_type": "code",
   "execution_count": 218,
   "id": "e25de132-c362-4bb7-a181-bb007b579175",
   "metadata": {},
   "outputs": [
    {
     "data": {
      "text/plain": [
       "array([[5, 0, 3, 3, 7],\n",
       "       [9, 3, 5, 2, 4],\n",
       "       [7, 6, 8, 8, 1]])"
      ]
     },
     "execution_count": 218,
     "metadata": {},
     "output_type": "execute_result"
    }
   ],
   "source": [
    "#but\n",
    "np.random.seed(seed=0)\n",
    "ra8 = np.random.randint(10,size=(3,5))\n",
    "ra8"
   ]
  },
  {
   "cell_type": "code",
   "execution_count": 220,
   "id": "5fa776d4-27d0-4a5b-8ee8-e3944721791f",
   "metadata": {},
   "outputs": [],
   "source": [
    "#the elements of array's mpt change time to time when it run"
   ]
  },
  {
   "cell_type": "code",
   "execution_count": 222,
   "id": "67b93c03-9774-47d1-a23c-d71976cdf160",
   "metadata": {},
   "outputs": [
    {
     "data": {
      "text/plain": [
       "array([[0.5488135 , 0.71518937, 0.60276338],\n",
       "       [0.54488318, 0.4236548 , 0.64589411],\n",
       "       [0.43758721, 0.891773  , 0.96366276],\n",
       "       [0.38344152, 0.79172504, 0.52889492],\n",
       "       [0.56804456, 0.92559664, 0.07103606]])"
      ]
     },
     "execution_count": 222,
     "metadata": {},
     "output_type": "execute_result"
    }
   ],
   "source": [
    "np.random.seed(seed=0)\n",
    "ra9 = np.random.random((5,3))\n",
    "ra9"
   ]
  },
  {
   "cell_type": "markdown",
   "id": "e3fd2a54-bc27-4c83-8a18-f22d1f3202ac",
   "metadata": {},
   "source": [
    "## viewing arrays and matrices"
   ]
  },
  {
   "cell_type": "markdown",
   "id": "bfc43bc2-4cf8-487c-896a-1c0bb46a4f5f",
   "metadata": {},
   "source": [
    "uniqe array  "
   ]
  },
  {
   "cell_type": "code",
   "execution_count": 226,
   "id": "d4b3f8c0-8eb7-4ac1-9490-1a0f6f8d7284",
   "metadata": {},
   "outputs": [
    {
     "data": {
      "text/plain": [
       "array([1, 2, 3, 4, 5])"
      ]
     },
     "execution_count": 226,
     "metadata": {},
     "output_type": "execute_result"
    }
   ],
   "source": [
    "np.unique([1,2,5,4,2,1,3,2,1,2])"
   ]
  },
  {
   "cell_type": "code",
   "execution_count": 228,
   "id": "9c6c9405-c6a2-476a-a4c4-047e702db120",
   "metadata": {},
   "outputs": [],
   "source": [
    "a = np.array([[1,2,3,1,2],[1,5,4,2,1]])"
   ]
  },
  {
   "cell_type": "code",
   "execution_count": 230,
   "id": "620ed7ae-0636-4629-b2fe-07a8f00c58a4",
   "metadata": {},
   "outputs": [
    {
     "data": {
      "text/plain": [
       "array([1, 2, 3, 4, 5])"
      ]
     },
     "execution_count": 230,
     "metadata": {},
     "output_type": "execute_result"
    }
   ],
   "source": [
    "np.unique(a)"
   ]
  },
  {
   "cell_type": "code",
   "execution_count": 232,
   "id": "00b33678-d915-4726-bf8d-088156029162",
   "metadata": {},
   "outputs": [
    {
     "data": {
      "text/plain": [
       "array([[1, 2, 3, 1, 2],\n",
       "       [1, 5, 4, 2, 1]])"
      ]
     },
     "execution_count": 232,
     "metadata": {},
     "output_type": "execute_result"
    }
   ],
   "source": [
    "np.unique(a, axis=0)"
   ]
  },
  {
   "cell_type": "markdown",
   "id": "c27b81d7-7e4e-4fef-9d57-a4755986af95",
   "metadata": {},
   "source": [
    "<--- this remove the same rows not the elements  "
   ]
  },
  {
   "cell_type": "code",
   "execution_count": 239,
   "id": "68e1bbc6-2854-44b2-a35c-e528353ad513",
   "metadata": {},
   "outputs": [],
   "source": [
    "a2 = np.array([[1,2,1],[1,2,1],[3,5,3]])"
   ]
  },
  {
   "cell_type": "code",
   "execution_count": 243,
   "id": "6a95acce-6b50-464a-83ff-e35fba08f27d",
   "metadata": {},
   "outputs": [
    {
     "data": {
      "text/plain": [
       "array([[1, 2, 1],\n",
       "       [3, 5, 3]])"
      ]
     },
     "execution_count": 243,
     "metadata": {},
     "output_type": "execute_result"
    }
   ],
   "source": [
    "np.unique(a2, axis=0)"
   ]
  },
  {
   "cell_type": "markdown",
   "id": "63b91f59-e902-4c6c-ae42-1a53eeb39227",
   "metadata": {},
   "source": [
    "there was 1,2,1 2 rwos before using uniqu function and now have only one"
   ]
  },
  {
   "cell_type": "code",
   "execution_count": 246,
   "id": "36ec7e2b-7bde-4e93-a05a-a6407818d70c",
   "metadata": {},
   "outputs": [],
   "source": [
    "##indexing"
   ]
  },
  {
   "cell_type": "code",
   "execution_count": 250,
   "id": "815559b2-d7a6-4354-aeff-d403332ce32b",
   "metadata": {},
   "outputs": [
    {
     "data": {
      "text/plain": [
       "array([[[1, 7, 9],\n",
       "        [9, 3, 6],\n",
       "        [7, 2, 0]],\n",
       "\n",
       "       [[3, 5, 9],\n",
       "        [4, 4, 6],\n",
       "        [4, 4, 3]],\n",
       "\n",
       "       [[4, 4, 8],\n",
       "        [4, 3, 7],\n",
       "        [5, 5, 0]]])"
      ]
     },
     "execution_count": 250,
     "metadata": {},
     "output_type": "execute_result"
    }
   ],
   "source": [
    "ar = np.random.randint(10, size=(3,3,3))\n",
    "ar"
   ]
  },
  {
   "cell_type": "code",
   "execution_count": 252,
   "id": "bfe79042-04cf-49ab-8996-30b3d359e326",
   "metadata": {},
   "outputs": [
    {
     "data": {
      "text/plain": [
       "array([[1, 7, 9],\n",
       "       [9, 3, 6],\n",
       "       [7, 2, 0]])"
      ]
     },
     "execution_count": 252,
     "metadata": {},
     "output_type": "execute_result"
    }
   ],
   "source": [
    "ar[0]"
   ]
  },
  {
   "cell_type": "code",
   "execution_count": 254,
   "id": "c8482ee8-35c1-4efb-982b-1c2e168ccb2b",
   "metadata": {},
   "outputs": [
    {
     "data": {
      "text/plain": [
       "array([[4, 4, 8],\n",
       "       [4, 3, 7],\n",
       "       [5, 5, 0]])"
      ]
     },
     "execution_count": 254,
     "metadata": {},
     "output_type": "execute_result"
    }
   ],
   "source": [
    "ar[2]"
   ]
  },
  {
   "cell_type": "code",
   "execution_count": 256,
   "id": "9b91c89e-3e61-4f08-a65a-a831845ff61e",
   "metadata": {},
   "outputs": [
    {
     "data": {
      "text/plain": [
       "array([1, 7, 9])"
      ]
     },
     "execution_count": 256,
     "metadata": {},
     "output_type": "execute_result"
    }
   ],
   "source": [
    "ar[0,0]"
   ]
  },
  {
   "cell_type": "code",
   "execution_count": 258,
   "id": "f1a53dd8-1c14-4ca6-bccf-197783265bfa",
   "metadata": {},
   "outputs": [
    {
     "data": {
      "text/plain": [
       "array([9, 3, 6])"
      ]
     },
     "execution_count": 258,
     "metadata": {},
     "output_type": "execute_result"
    }
   ],
   "source": [
    "ar[0,1]"
   ]
  },
  {
   "cell_type": "code",
   "execution_count": 260,
   "id": "8a3d0d01-beb4-4f7e-b9cd-6d58367402b8",
   "metadata": {},
   "outputs": [
    {
     "data": {
      "text/plain": [
       "1"
      ]
     },
     "execution_count": 260,
     "metadata": {},
     "output_type": "execute_result"
    }
   ],
   "source": [
    "ar[0,0,0]"
   ]
  },
  {
   "cell_type": "markdown",
   "id": "4d1c3bb3-596a-495b-bdc3-0a7c8936afd4",
   "metadata": {},
   "source": [
    "matrix = array with dimension higher than 1"
   ]
  },
  {
   "cell_type": "code",
   "execution_count": 264,
   "id": "481b261b-f5e8-478f-bfaa-098218d30dac",
   "metadata": {},
   "outputs": [
    {
     "data": {
      "text/plain": [
       "array([[[1, 7, 9],\n",
       "        [9, 3, 6],\n",
       "        [7, 2, 0]],\n",
       "\n",
       "       [[3, 5, 9],\n",
       "        [4, 4, 6],\n",
       "        [4, 4, 3]],\n",
       "\n",
       "       [[4, 4, 8],\n",
       "        [4, 3, 7],\n",
       "        [5, 5, 0]]])"
      ]
     },
     "execution_count": 264,
     "metadata": {},
     "output_type": "execute_result"
    }
   ],
   "source": [
    "ar"
   ]
  },
  {
   "cell_type": "code",
   "execution_count": 266,
   "id": "034598b1-05c9-4dc7-8fb4-3b284043faf0",
   "metadata": {},
   "outputs": [
    {
     "data": {
      "text/plain": [
       "array([[[1, 7, 9],\n",
       "        [9, 3, 6],\n",
       "        [7, 2, 0]],\n",
       "\n",
       "       [[3, 5, 9],\n",
       "        [4, 4, 6],\n",
       "        [4, 4, 3]]])"
      ]
     },
     "execution_count": 266,
     "metadata": {},
     "output_type": "execute_result"
    }
   ],
   "source": [
    "ar[:2]"
   ]
  },
  {
   "cell_type": "code",
   "execution_count": 268,
   "id": "cbe43ddb-ba62-4f65-be65-9ceaee521fe4",
   "metadata": {},
   "outputs": [
    {
     "data": {
      "text/plain": [
       "array([[[1, 7, 9],\n",
       "        [9, 3, 6]],\n",
       "\n",
       "       [[3, 5, 9],\n",
       "        [4, 4, 6]]])"
      ]
     },
     "execution_count": 268,
     "metadata": {},
     "output_type": "execute_result"
    }
   ],
   "source": [
    "ar[:2, :2]"
   ]
  },
  {
   "cell_type": "code",
   "execution_count": 270,
   "id": "20286e1e-f610-47b9-9777-ff74f3e3e6af",
   "metadata": {},
   "outputs": [
    {
     "data": {
      "text/plain": [
       "array([[[1, 7],\n",
       "        [9, 3]],\n",
       "\n",
       "       [[3, 5],\n",
       "        [4, 4]]])"
      ]
     },
     "execution_count": 270,
     "metadata": {},
     "output_type": "execute_result"
    }
   ],
   "source": [
    "ar[:2, :2, :2]"
   ]
  },
  {
   "cell_type": "code",
   "execution_count": 272,
   "id": "083594e7-bc64-4cc6-b8f6-2c7c73ac3168",
   "metadata": {},
   "outputs": [
    {
     "data": {
      "text/plain": [
       "3"
      ]
     },
     "execution_count": 272,
     "metadata": {},
     "output_type": "execute_result"
    }
   ],
   "source": [
    "ar.ndim"
   ]
  },
  {
   "cell_type": "code",
   "execution_count": 274,
   "id": "e7f72073-51db-44bd-99f3-7f939eb8cc81",
   "metadata": {},
   "outputs": [
    {
     "data": {
      "text/plain": [
       "array([[[1, 7],\n",
       "        [9, 3],\n",
       "        [7, 2]],\n",
       "\n",
       "       [[3, 5],\n",
       "        [4, 4],\n",
       "        [4, 4]],\n",
       "\n",
       "       [[4, 4],\n",
       "        [4, 3],\n",
       "        [5, 5]]])"
      ]
     },
     "execution_count": 274,
     "metadata": {},
     "output_type": "execute_result"
    }
   ],
   "source": [
    "ar[:, :, :2]"
   ]
  },
  {
   "cell_type": "markdown",
   "id": "a2f6ad9e-e9ec-4ceb-a9bd-0881d6cc7573",
   "metadata": {},
   "source": [
    "gives only the 1st 2 element in inermost arrays, lower lvel array"
   ]
  },
  {
   "cell_type": "code",
   "execution_count": 277,
   "id": "63ed8627-3b25-4a07-9c5b-76122a452b6b",
   "metadata": {},
   "outputs": [
    {
     "data": {
      "text/plain": [
       "array([[[[1, 5, 9, 3, 0],\n",
       "         [5, 0, 1, 2, 4],\n",
       "         [2, 0, 3, 2, 0],\n",
       "         [7, 5, 9, 0, 2]],\n",
       "\n",
       "        [[7, 2, 9, 2, 3],\n",
       "         [3, 2, 3, 4, 1],\n",
       "         [2, 9, 1, 4, 6],\n",
       "         [8, 2, 3, 0, 0]],\n",
       "\n",
       "        [[6, 0, 6, 3, 3],\n",
       "         [8, 8, 8, 2, 3],\n",
       "         [2, 0, 8, 8, 3],\n",
       "         [8, 2, 8, 4, 3]],\n",
       "\n",
       "        [[0, 4, 3, 6, 9],\n",
       "         [8, 0, 8, 5, 9],\n",
       "         [0, 9, 6, 5, 3],\n",
       "         [1, 8, 0, 4, 9]]],\n",
       "\n",
       "\n",
       "       [[[6, 5, 7, 8, 8],\n",
       "         [9, 2, 8, 6, 6],\n",
       "         [9, 1, 6, 8, 8],\n",
       "         [3, 2, 3, 6, 3]],\n",
       "\n",
       "        [[6, 5, 7, 0, 8],\n",
       "         [4, 6, 5, 8, 2],\n",
       "         [3, 9, 7, 5, 3],\n",
       "         [4, 5, 3, 3, 7]],\n",
       "\n",
       "        [[9, 9, 9, 7, 3],\n",
       "         [2, 3, 9, 7, 7],\n",
       "         [5, 1, 2, 2, 8],\n",
       "         [1, 5, 8, 4, 0]],\n",
       "\n",
       "        [[2, 5, 5, 0, 8],\n",
       "         [1, 1, 0, 3, 8],\n",
       "         [8, 4, 4, 0, 9],\n",
       "         [3, 7, 3, 2, 1]]],\n",
       "\n",
       "\n",
       "       [[[1, 2, 1, 4, 2],\n",
       "         [5, 5, 5, 2, 5],\n",
       "         [7, 7, 6, 1, 6],\n",
       "         [7, 2, 3, 1, 9]],\n",
       "\n",
       "        [[5, 9, 9, 2, 0],\n",
       "         [9, 1, 9, 0, 6],\n",
       "         [0, 4, 8, 4, 3],\n",
       "         [3, 8, 8, 7, 0]],\n",
       "\n",
       "        [[3, 8, 7, 7, 1],\n",
       "         [8, 4, 7, 0, 4],\n",
       "         [9, 0, 6, 4, 2],\n",
       "         [4, 6, 3, 3, 7]],\n",
       "\n",
       "        [[8, 5, 0, 8, 5],\n",
       "         [4, 7, 4, 1, 3],\n",
       "         [3, 9, 2, 5, 2],\n",
       "         [3, 5, 7, 2, 7]]],\n",
       "\n",
       "\n",
       "       [[[1, 6, 5, 0, 0],\n",
       "         [3, 1, 9, 9, 6],\n",
       "         [6, 7, 8, 8, 7],\n",
       "         [0, 8, 6, 8, 9]],\n",
       "\n",
       "        [[8, 3, 6, 1, 7],\n",
       "         [4, 9, 2, 0, 8],\n",
       "         [2, 7, 8, 4, 4],\n",
       "         [1, 7, 6, 9, 4]],\n",
       "\n",
       "        [[1, 5, 9, 7, 1],\n",
       "         [3, 5, 7, 3, 6],\n",
       "         [6, 7, 9, 1, 9],\n",
       "         [6, 0, 3, 8, 4]],\n",
       "\n",
       "        [[1, 4, 5, 0, 3],\n",
       "         [1, 4, 4, 4, 0],\n",
       "         [0, 8, 4, 6, 9],\n",
       "         [3, 3, 2, 1, 2]]]])"
      ]
     },
     "execution_count": 277,
     "metadata": {},
     "output_type": "execute_result"
    }
   ],
   "source": [
    "#ex :\n",
    "arr = np.random.randint(10, size=(4,4,4,5))\n",
    "arr"
   ]
  },
  {
   "cell_type": "code",
   "execution_count": 279,
   "id": "c18d14cb-3eb6-4b1b-9b36-0c7decd793d4",
   "metadata": {},
   "outputs": [
    {
     "data": {
      "text/plain": [
       "array([[[[1, 5, 9, 3],\n",
       "         [5, 0, 1, 2],\n",
       "         [2, 0, 3, 2],\n",
       "         [7, 5, 9, 0]],\n",
       "\n",
       "        [[7, 2, 9, 2],\n",
       "         [3, 2, 3, 4],\n",
       "         [2, 9, 1, 4],\n",
       "         [8, 2, 3, 0]],\n",
       "\n",
       "        [[6, 0, 6, 3],\n",
       "         [8, 8, 8, 2],\n",
       "         [2, 0, 8, 8],\n",
       "         [8, 2, 8, 4]],\n",
       "\n",
       "        [[0, 4, 3, 6],\n",
       "         [8, 0, 8, 5],\n",
       "         [0, 9, 6, 5],\n",
       "         [1, 8, 0, 4]]],\n",
       "\n",
       "\n",
       "       [[[6, 5, 7, 8],\n",
       "         [9, 2, 8, 6],\n",
       "         [9, 1, 6, 8],\n",
       "         [3, 2, 3, 6]],\n",
       "\n",
       "        [[6, 5, 7, 0],\n",
       "         [4, 6, 5, 8],\n",
       "         [3, 9, 7, 5],\n",
       "         [4, 5, 3, 3]],\n",
       "\n",
       "        [[9, 9, 9, 7],\n",
       "         [2, 3, 9, 7],\n",
       "         [5, 1, 2, 2],\n",
       "         [1, 5, 8, 4]],\n",
       "\n",
       "        [[2, 5, 5, 0],\n",
       "         [1, 1, 0, 3],\n",
       "         [8, 4, 4, 0],\n",
       "         [3, 7, 3, 2]]],\n",
       "\n",
       "\n",
       "       [[[1, 2, 1, 4],\n",
       "         [5, 5, 5, 2],\n",
       "         [7, 7, 6, 1],\n",
       "         [7, 2, 3, 1]],\n",
       "\n",
       "        [[5, 9, 9, 2],\n",
       "         [9, 1, 9, 0],\n",
       "         [0, 4, 8, 4],\n",
       "         [3, 8, 8, 7]],\n",
       "\n",
       "        [[3, 8, 7, 7],\n",
       "         [8, 4, 7, 0],\n",
       "         [9, 0, 6, 4],\n",
       "         [4, 6, 3, 3]],\n",
       "\n",
       "        [[8, 5, 0, 8],\n",
       "         [4, 7, 4, 1],\n",
       "         [3, 9, 2, 5],\n",
       "         [3, 5, 7, 2]]],\n",
       "\n",
       "\n",
       "       [[[1, 6, 5, 0],\n",
       "         [3, 1, 9, 9],\n",
       "         [6, 7, 8, 8],\n",
       "         [0, 8, 6, 8]],\n",
       "\n",
       "        [[8, 3, 6, 1],\n",
       "         [4, 9, 2, 0],\n",
       "         [2, 7, 8, 4],\n",
       "         [1, 7, 6, 9]],\n",
       "\n",
       "        [[1, 5, 9, 7],\n",
       "         [3, 5, 7, 3],\n",
       "         [6, 7, 9, 1],\n",
       "         [6, 0, 3, 8]],\n",
       "\n",
       "        [[1, 4, 5, 0],\n",
       "         [1, 4, 4, 4],\n",
       "         [0, 8, 4, 6],\n",
       "         [3, 3, 2, 1]]]])"
      ]
     },
     "execution_count": 279,
     "metadata": {},
     "output_type": "execute_result"
    }
   ],
   "source": [
    "#now i am gonna get array with : 4,4,4,4 shape\n",
    "arr[:,:,:,:4]"
   ]
  },
  {
   "cell_type": "code",
   "execution_count": 281,
   "id": "cf1a67d0-46bc-4946-adfe-8b5643e9b257",
   "metadata": {},
   "outputs": [
    {
     "data": {
      "text/plain": [
       "array([[[[1, 5],\n",
       "         [5, 0]],\n",
       "\n",
       "        [[7, 2],\n",
       "         [3, 2]]],\n",
       "\n",
       "\n",
       "       [[[6, 5],\n",
       "         [9, 2]],\n",
       "\n",
       "        [[6, 5],\n",
       "         [4, 6]]],\n",
       "\n",
       "\n",
       "       [[[1, 2],\n",
       "         [5, 5]],\n",
       "\n",
       "        [[5, 9],\n",
       "         [9, 1]]],\n",
       "\n",
       "\n",
       "       [[[1, 6],\n",
       "         [3, 1]],\n",
       "\n",
       "        [[8, 3],\n",
       "         [4, 9]]]])"
      ]
     },
     "execution_count": 281,
     "metadata": {},
     "output_type": "execute_result"
    }
   ],
   "source": [
    "#lets get arr with the shape, 4,2,2,2\n",
    "arr[:,:2, :2, :2]"
   ]
  },
  {
   "cell_type": "code",
   "execution_count": null,
   "id": "3d0084a2-ff76-4a62-9cfa-910109e7f0fb",
   "metadata": {},
   "outputs": [],
   "source": []
  }
 ],
 "metadata": {
  "kernelspec": {
   "display_name": "Python 3 (ipykernel)",
   "language": "python",
   "name": "python3"
  },
  "language_info": {
   "codemirror_mode": {
    "name": "ipython",
    "version": 3
   },
   "file_extension": ".py",
   "mimetype": "text/x-python",
   "name": "python",
   "nbconvert_exporter": "python",
   "pygments_lexer": "ipython3",
   "version": "3.11.7"
  }
 },
 "nbformat": 4,
 "nbformat_minor": 5
}
