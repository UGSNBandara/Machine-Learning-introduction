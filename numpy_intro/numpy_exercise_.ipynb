{
 "cells": [
  {
   "cell_type": "markdown",
   "id": "2652bec1-dc85-4809-89f5-9c3c153ef984",
   "metadata": {},
   "source": [
    "## Numpy Exersices : Zero to mastry Assignmet "
   ]
  },
  {
   "cell_type": "code",
   "execution_count": 2,
   "id": "2eb8de8d-81c8-48f7-84fa-b32021a1a622",
   "metadata": {},
   "outputs": [],
   "source": [
    "import numpy as np"
   ]
  },
  {
   "cell_type": "code",
   "execution_count": 8,
   "id": "141e0cc7-bd71-4938-b8f3-1d69c3e3379c",
   "metadata": {},
   "outputs": [],
   "source": [
    "#1-d \n",
    "d1 = np.array([1,2,3])\n",
    "d2 = np.array([[1,2,3],[1,2,3]])\n",
    "d3 = np.array([[[1,2,3],[1,2,3]],[[1,2,3],[1,2,3]]])"
   ]
  },
  {
   "cell_type": "code",
   "execution_count": 16,
   "id": "dacdc9aa-f407-4243-b0fe-83fd65a4b5e0",
   "metadata": {},
   "outputs": [
    {
     "data": {
      "text/plain": [
       "(array([1, 2, 3]),\n",
       " array([[1, 2, 3],\n",
       "        [1, 2, 3]]),\n",
       " array([[[1, 2, 3],\n",
       "         [1, 2, 3]],\n",
       " \n",
       "        [[1, 2, 3],\n",
       "         [1, 2, 3]]]))"
      ]
     },
     "execution_count": 16,
     "metadata": {},
     "output_type": "execute_result"
    }
   ],
   "source": [
    "d1, d2, d3"
   ]
  },
  {
   "cell_type": "code",
   "execution_count": 18,
   "id": "4196673f-a9be-4667-9fa9-41fc5e2f9092",
   "metadata": {},
   "outputs": [
    {
     "data": {
      "text/plain": [
       "((3,), (2, 3), (2, 2, 3))"
      ]
     },
     "execution_count": 18,
     "metadata": {},
     "output_type": "execute_result"
    }
   ],
   "source": [
    "d1.shape,  d2.shape, d3.shape"
   ]
  },
  {
   "cell_type": "code",
   "execution_count": 20,
   "id": "f64539b4-6193-4ef5-bbfc-46a936cb2aac",
   "metadata": {},
   "outputs": [
    {
     "data": {
      "text/plain": [
       "(3, 6, 12)"
      ]
     },
     "execution_count": 20,
     "metadata": {},
     "output_type": "execute_result"
    }
   ],
   "source": [
    "d1.size, d2.size, d3.size"
   ]
  },
  {
   "cell_type": "code",
   "execution_count": 22,
   "id": "473d2f6f-bad0-4703-8fba-739ccf5d25fb",
   "metadata": {},
   "outputs": [
    {
     "data": {
      "text/plain": [
       "(dtype('int32'), dtype('int32'), dtype('int32'))"
      ]
     },
     "execution_count": 22,
     "metadata": {},
     "output_type": "execute_result"
    }
   ],
   "source": [
    "d1.dtype, d2.dtype, d3.dtype"
   ]
  },
  {
   "cell_type": "code",
   "execution_count": 24,
   "id": "c6984182-583d-43b4-b484-7acfb9551177",
   "metadata": {},
   "outputs": [
    {
     "data": {
      "text/plain": [
       "(numpy.ndarray, numpy.ndarray, numpy.ndarray)"
      ]
     },
     "execution_count": 24,
     "metadata": {},
     "output_type": "execute_result"
    }
   ],
   "source": [
    "type(d1), type(d2), type(d3)"
   ]
  },
  {
   "cell_type": "code",
   "execution_count": 26,
   "id": "a059cf65-f428-49f1-ac69-e3e6d8568b4e",
   "metadata": {},
   "outputs": [],
   "source": [
    "import pandas as pd"
   ]
  },
  {
   "cell_type": "code",
   "execution_count": 30,
   "id": "3b4ab15e-662d-4cc3-a427-989a4e0f0b0b",
   "metadata": {},
   "outputs": [
    {
     "data": {
      "text/html": [
       "<div>\n",
       "<style scoped>\n",
       "    .dataframe tbody tr th:only-of-type {\n",
       "        vertical-align: middle;\n",
       "    }\n",
       "\n",
       "    .dataframe tbody tr th {\n",
       "        vertical-align: top;\n",
       "    }\n",
       "\n",
       "    .dataframe thead th {\n",
       "        text-align: right;\n",
       "    }\n",
       "</style>\n",
       "<table border=\"1\" class=\"dataframe\">\n",
       "  <thead>\n",
       "    <tr style=\"text-align: right;\">\n",
       "      <th></th>\n",
       "      <th>0</th>\n",
       "      <th>1</th>\n",
       "      <th>2</th>\n",
       "    </tr>\n",
       "  </thead>\n",
       "  <tbody>\n",
       "    <tr>\n",
       "      <th>0</th>\n",
       "      <td>1</td>\n",
       "      <td>2</td>\n",
       "      <td>3</td>\n",
       "    </tr>\n",
       "    <tr>\n",
       "      <th>1</th>\n",
       "      <td>1</td>\n",
       "      <td>2</td>\n",
       "      <td>3</td>\n",
       "    </tr>\n",
       "  </tbody>\n",
       "</table>\n",
       "</div>"
      ],
      "text/plain": [
       "   0  1  2\n",
       "0  1  2  3\n",
       "1  1  2  3"
      ]
     },
     "execution_count": 30,
     "metadata": {},
     "output_type": "execute_result"
    }
   ],
   "source": [
    "df2 = pd.DataFrame(d2)\n",
    "df2"
   ]
  },
  {
   "cell_type": "code",
   "execution_count": 34,
   "id": "86820167-a45b-462e-b497-c0d6c37ac5cc",
   "metadata": {},
   "outputs": [
    {
     "data": {
      "text/plain": [
       "array([[1., 1.],\n",
       "       [1., 1.],\n",
       "       [1., 1.],\n",
       "       [1., 1.],\n",
       "       [1., 1.],\n",
       "       [1., 1.],\n",
       "       [1., 1.],\n",
       "       [1., 1.],\n",
       "       [1., 1.],\n",
       "       [1., 1.]])"
      ]
     },
     "execution_count": 34,
     "metadata": {},
     "output_type": "execute_result"
    }
   ],
   "source": [
    "ones_ = np.ones((10,2))\n",
    "ones_"
   ]
  },
  {
   "cell_type": "code",
   "execution_count": 38,
   "id": "bf7e5950-949f-40c5-9493-cebf20d3d3a2",
   "metadata": {},
   "outputs": [
    {
     "data": {
      "text/plain": [
       "array([[[0., 0., 0.],\n",
       "        [0., 0., 0.]],\n",
       "\n",
       "       [[0., 0., 0.],\n",
       "        [0., 0., 0.]],\n",
       "\n",
       "       [[0., 0., 0.],\n",
       "        [0., 0., 0.]],\n",
       "\n",
       "       [[0., 0., 0.],\n",
       "        [0., 0., 0.]],\n",
       "\n",
       "       [[0., 0., 0.],\n",
       "        [0., 0., 0.]],\n",
       "\n",
       "       [[0., 0., 0.],\n",
       "        [0., 0., 0.]],\n",
       "\n",
       "       [[0., 0., 0.],\n",
       "        [0., 0., 0.]]])"
      ]
     },
     "execution_count": 38,
     "metadata": {},
     "output_type": "execute_result"
    }
   ],
   "source": [
    "zeros = np.zeros((7,2,3))\n",
    "zeros"
   ]
  },
  {
   "cell_type": "code",
   "execution_count": 42,
   "id": "6337cfaf-fafd-4f09-8be3-500a9c2c5ba4",
   "metadata": {},
   "outputs": [
    {
     "data": {
      "text/plain": [
       "array([ 0,  3,  6,  9, 12, 15, 18, 21, 24, 27, 30, 33, 36, 39, 42, 45, 48,\n",
       "       51, 54, 57, 60, 63, 66, 69, 72, 75, 78, 81, 84, 87, 90, 93, 96, 99])"
      ]
     },
     "execution_count": 42,
     "metadata": {},
     "output_type": "execute_result"
    }
   ],
   "source": [
    "ar1 = np.arange(0,100,3)\n",
    "ar1"
   ]
  },
  {
   "cell_type": "code",
   "execution_count": 44,
   "id": "d0070f33-be2e-4ffd-a9c2-54bf139cceda",
   "metadata": {},
   "outputs": [
    {
     "data": {
      "text/plain": [
       "array([[1, 7],\n",
       "       [2, 3],\n",
       "       [6, 8],\n",
       "       [4, 4],\n",
       "       [2, 8],\n",
       "       [5, 1],\n",
       "       [6, 2]])"
      ]
     },
     "execution_count": 44,
     "metadata": {},
     "output_type": "execute_result"
    }
   ],
   "source": [
    "ar2 = np.random.randint(10, size=(7,2))\n",
    "ar2"
   ]
  },
  {
   "cell_type": "code",
   "execution_count": 46,
   "id": "528aa400-ee15-4aff-8fb7-468c21f56327",
   "metadata": {},
   "outputs": [
    {
     "data": {
      "text/plain": [
       "array([[0.03099528, 0.49052241, 0.69489074, 0.20952353, 0.98022721],\n",
       "       [0.19839362, 0.50781952, 0.96327876, 0.43627101, 0.92480229],\n",
       "       [0.46692182, 0.74106633, 0.71701102, 0.39147495, 0.82064381]])"
      ]
     },
     "execution_count": 46,
     "metadata": {},
     "output_type": "execute_result"
    }
   ],
   "source": [
    "ar3 = np.random.random((3,5))\n",
    "ar3"
   ]
  },
  {
   "cell_type": "code",
   "execution_count": 54,
   "id": "b67afc2c-1aac-4933-bf69-d0d4a3061a6a",
   "metadata": {},
   "outputs": [
    {
     "data": {
      "text/plain": [
       "array([[6, 3, 7, 4, 6, 9],\n",
       "       [2, 6, 7, 4, 3, 7],\n",
       "       [7, 2, 5, 4, 1, 7],\n",
       "       [5, 1, 4, 0, 9, 5]])"
      ]
     },
     "execution_count": 54,
     "metadata": {},
     "output_type": "execute_result"
    }
   ],
   "source": [
    "np.random.seed(seed = 42)\n",
    "ar4 = np.random.randint(10, size = (4,6))\n",
    "ar4"
   ]
  },
  {
   "cell_type": "code",
   "execution_count": 56,
   "id": "b3dc8efc-e2ff-4797-b176-7007e23b6239",
   "metadata": {},
   "outputs": [
    {
     "data": {
      "text/plain": [
       "array([0, 1, 2, 3, 4, 5, 6, 7, 9])"
      ]
     },
     "execution_count": 56,
     "metadata": {},
     "output_type": "execute_result"
    }
   ],
   "source": [
    "np.unique(ar4)"
   ]
  },
  {
   "cell_type": "code",
   "execution_count": 58,
   "id": "825a3b9d-3784-4bc2-b036-8e7da800677e",
   "metadata": {},
   "outputs": [
    {
     "data": {
      "text/plain": [
       "array([6, 3, 7, 4, 6, 9])"
      ]
     },
     "execution_count": 58,
     "metadata": {},
     "output_type": "execute_result"
    }
   ],
   "source": [
    "ar4[0]"
   ]
  },
  {
   "cell_type": "code",
   "execution_count": 60,
   "id": "c6283b22-4809-4dde-8def-343345e444a6",
   "metadata": {},
   "outputs": [
    {
     "data": {
      "text/plain": [
       "array([[6, 3, 7, 4, 6, 9],\n",
       "       [2, 6, 7, 4, 3, 7]])"
      ]
     },
     "execution_count": 60,
     "metadata": {},
     "output_type": "execute_result"
    }
   ],
   "source": [
    "ar4[:2]"
   ]
  },
  {
   "cell_type": "code",
   "execution_count": 62,
   "id": "651ac8a1-9a4a-40a3-a7d3-7848852f4c66",
   "metadata": {},
   "outputs": [
    {
     "data": {
      "text/plain": [
       "array([[6, 3],\n",
       "       [2, 6]])"
      ]
     },
     "execution_count": 62,
     "metadata": {},
     "output_type": "execute_result"
    }
   ],
   "source": [
    "ar4[:2, :2]"
   ]
  },
  {
   "cell_type": "code",
   "execution_count": 64,
   "id": "095b9d85-7b49-4ee2-8972-6e0daa59e969",
   "metadata": {},
   "outputs": [
    {
     "data": {
      "text/plain": [
       "array([[36,  9, 49, 16, 36, 81],\n",
       "       [ 4, 36, 49, 16,  9, 49],\n",
       "       [49,  4, 25, 16,  1, 49],\n",
       "       [25,  1, 16,  0, 81, 25]])"
      ]
     },
     "execution_count": 64,
     "metadata": {},
     "output_type": "execute_result"
    }
   ],
   "source": [
    "ar4**2"
   ]
  },
  {
   "cell_type": "code",
   "execution_count": 70,
   "id": "68d95adf-1ded-4858-84f3-d2b2f14b3029",
   "metadata": {},
   "outputs": [
    {
     "data": {
      "text/plain": [
       "array([[2.44948974, 1.73205081, 2.64575131, 2.        , 2.44948974,\n",
       "        3.        ],\n",
       "       [1.41421356, 2.44948974, 2.64575131, 2.        , 1.73205081,\n",
       "        2.64575131],\n",
       "       [2.64575131, 1.41421356, 2.23606798, 2.        , 1.        ,\n",
       "        2.64575131],\n",
       "       [2.23606798, 1.        , 2.        , 0.        , 3.        ,\n",
       "        2.23606798]])"
      ]
     },
     "execution_count": 70,
     "metadata": {},
     "output_type": "execute_result"
    }
   ],
   "source": [
    "np.sqrt(ar4)"
   ]
  },
  {
   "cell_type": "code",
   "execution_count": 72,
   "id": "d04eaa0d-b2e9-4ede-8298-863156b48295",
   "metadata": {},
   "outputs": [
    {
     "data": {
      "text/plain": [
       "array([[6, 3, 7, 4, 6, 9],\n",
       "       [2, 6, 7, 4, 3, 7],\n",
       "       [7, 2, 5, 4, 1, 7],\n",
       "       [5, 1, 4, 0, 9, 5]])"
      ]
     },
     "execution_count": 72,
     "metadata": {},
     "output_type": "execute_result"
    }
   ],
   "source": [
    "ar4"
   ]
  },
  {
   "cell_type": "code",
   "execution_count": 76,
   "id": "2c65999d-c4e2-4eb2-8940-a6c9f480fd92",
   "metadata": {},
   "outputs": [
    {
     "data": {
      "text/plain": [
       "array([[36,  9, 49, 16, 36, 81],\n",
       "       [ 4, 36, 49, 16,  9, 49],\n",
       "       [49,  4, 25, 16,  1, 49],\n",
       "       [25,  1, 16,  0, 81, 25]])"
      ]
     },
     "execution_count": 76,
     "metadata": {},
     "output_type": "execute_result"
    }
   ],
   "source": [
    "np.square(ar4)"
   ]
  },
  {
   "cell_type": "code",
   "execution_count": 80,
   "id": "febce249-60c7-4e56-9453-1bcb087cd9a5",
   "metadata": {},
   "outputs": [
    {
     "data": {
      "text/plain": [
       "4.75"
      ]
     },
     "execution_count": 80,
     "metadata": {},
     "output_type": "execute_result"
    }
   ],
   "source": [
    "np.mean(ar4)"
   ]
  },
  {
   "cell_type": "code",
   "execution_count": 82,
   "id": "32421d0a-43d5-46a2-8181-3b69d01fcc2c",
   "metadata": {},
   "outputs": [
    {
     "data": {
      "text/plain": [
       "9"
      ]
     },
     "execution_count": 82,
     "metadata": {},
     "output_type": "execute_result"
    }
   ],
   "source": [
    "np.max(ar4)"
   ]
  },
  {
   "cell_type": "code",
   "execution_count": 84,
   "id": "84eb7b98-582a-47e5-8c3c-ab34403c159c",
   "metadata": {},
   "outputs": [
    {
     "data": {
      "text/plain": [
       "0"
      ]
     },
     "execution_count": 84,
     "metadata": {},
     "output_type": "execute_result"
    }
   ],
   "source": [
    "np.min(ar4)"
   ]
  },
  {
   "cell_type": "code",
   "execution_count": null,
   "id": "d2eb492b-e504-4fff-891a-a8d670ba2b30",
   "metadata": {},
   "outputs": [],
   "source": []
  }
 ],
 "metadata": {
  "kernelspec": {
   "display_name": "Python 3 (ipykernel)",
   "language": "python",
   "name": "python3"
  },
  "language_info": {
   "codemirror_mode": {
    "name": "ipython",
    "version": 3
   },
   "file_extension": ".py",
   "mimetype": "text/x-python",
   "name": "python",
   "nbconvert_exporter": "python",
   "pygments_lexer": "ipython3",
   "version": "3.11.7"
  }
 },
 "nbformat": 4,
 "nbformat_minor": 5
}
